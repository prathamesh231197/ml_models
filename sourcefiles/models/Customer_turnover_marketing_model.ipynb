{
 "cells": [
  {
   "cell_type": "code",
   "execution_count": null,
   "id": "8f0fc8a8-b8c7-40d3-acd9-42f47e71afdd",
   "metadata": {},
   "outputs": [],
   "source": [
    "#Machine Learning model to perform focused marketing by predicting the potential customers who will convert using the historical dataset."
   ]
  },
  {
   "cell_type": "code",
   "execution_count": 173,
   "id": "f13f77e4",
   "metadata": {},
   "outputs": [
    {
     "name": "stdout",
     "output_type": "stream",
     "text": [
      "        ID  Age  CustomerSince  HighestSpend  ZipCode  HiddenScore  MonthlyAverageSpend  Level\n",
      "0        1   25              1            49    91107            4                 1.60      1\n",
      "1        2   45             19            34    90089            3                 1.50      1\n",
      "2        3   39             15            11    94720            1                 1.00      1\n",
      "3        4   35              9           100    94112            1                 2.70      2\n",
      "4        5   35              8            45    91330            4                 1.00      2\n",
      "...    ...  ...            ...           ...      ...          ...                  ...    ...\n",
      "4995  4996   29              3            40    92697            1                 1.90      3\n",
      "4996  4997   30              4            15    92037            4                 0.40      1\n",
      "4997  4998   63             39            24    93023            2                 0.30      3\n",
      "4998  4999   65             40            49    90034            3                 0.50      2\n",
      "4999  5000   28              4            83    92612            3                 0.80      1\n",
      "\n",
      "[5000 rows x 8 columns] \n",
      "         ID  Mortgage  Security  FixedDepositAccount  InternetBanking  CreditCard  LoanOnCard\n",
      "0        1         0         1                    0                0           0         NaN\n",
      "1        2         0         1                    0                0           0         NaN\n",
      "2        3         0         0                    0                0           0         NaN\n",
      "3        4         0         0                    0                0           0         NaN\n",
      "4        5         0         0                    0                0           1         NaN\n",
      "...    ...       ...       ...                  ...              ...         ...         ...\n",
      "4995  4996         0         0                    0                1           0        0.00\n",
      "4996  4997        85         0                    0                1           0        0.00\n",
      "4997  4998         0         0                    0                0           0        0.00\n",
      "4998  4999         0         0                    0                1           0        0.00\n",
      "4999  5000         0         0                    0                1           1        0.00\n",
      "\n",
      "[5000 rows x 7 columns]\n"
     ]
    }
   ],
   "source": [
    "#Read both the Datasets ‘Data1’ and ‘Data 2’ as DataFrame and store them into two separate variables. \n",
    "#libraries for data manipulation\n",
    "import pandas as pd \n",
    "import numpy as np\n",
    "\n",
    "#libraries for data visualization\n",
    "import matplotlib.pyplot as plt\n",
    "import seaborn as sns\n",
    "\n",
    "#Command to tell Python to actually display the graphs\n",
    "%matplotlib inline\n",
    "\n",
    "pd.set_option('display.float_format', lambda x: '%.2f' % x) # To supress numerical display in scientific notations\n",
    "\n",
    "# importing the datasets\n",
    "data1 = pd.read_csv(\"Data1.csv\")\n",
    "data2 = pd.read_csv(\"Data2.csv\")\n",
    "\n",
    "# printing the dataset to verify if the import was successful\n",
    "print(data1,\"\\n\", data2)"
   ]
  },
  {
   "cell_type": "code",
   "execution_count": 174,
   "id": "2a04c76f",
   "metadata": {},
   "outputs": [
    {
     "name": "stdout",
     "output_type": "stream",
     "text": [
      "Data1 has 5000 rows and 8 columns.\n",
      "Data2 has 5000 rows and 7 columns.\n"
     ]
    }
   ],
   "source": [
    "#Print shape and Column Names and DataTypes of both the Dataframes\n",
    "s_data1 = data1.shape\n",
    "s_data2 = data2.shape\n",
    "print(f\"Data1 has {s_data1[0]} rows and {s_data1[1]} columns.\\nData2 has {s_data2[0]} rows and {s_data2[1]} columns.\")"
   ]
  },
  {
   "cell_type": "code",
   "execution_count": 175,
   "id": "93c7b39a",
   "metadata": {},
   "outputs": [
    {
     "name": "stdout",
     "output_type": "stream",
     "text": [
      "Columns of data1 are Index(['ID', 'Age', 'CustomerSince', 'HighestSpend', 'ZipCode', 'HiddenScore', 'MonthlyAverageSpend', 'Level'], dtype='object')\n",
      "Columns of data2 are Index(['ID', 'Mortgage', 'Security', 'FixedDepositAccount', 'InternetBanking', 'CreditCard', 'LoanOnCard'], dtype='object')\n"
     ]
    }
   ],
   "source": [
    "data1_c = data1.columns\n",
    "data2_c = data2.columns\n",
    "print(\"Columns of data1 are\",data1_c)\n",
    "print(\"Columns of data2 are\",data2_c)\n",
    "    "
   ]
  },
  {
   "cell_type": "code",
   "execution_count": 176,
   "id": "d991d814",
   "metadata": {},
   "outputs": [
    {
     "name": "stdout",
     "output_type": "stream",
     "text": [
      "Data1 has datatypes as follows,\n",
      "ID                       int64\n",
      "Age                      int64\n",
      "CustomerSince            int64\n",
      "HighestSpend             int64\n",
      "ZipCode                  int64\n",
      "HiddenScore              int64\n",
      "MonthlyAverageSpend    float64\n",
      "Level                    int64\n",
      "dtype: object\n",
      "********************\n",
      "Data2 has datatypes as follows,\n",
      "ID                       int64\n",
      "Mortgage                 int64\n",
      "Security                 int64\n",
      "FixedDepositAccount      int64\n",
      "InternetBanking          int64\n",
      "CreditCard               int64\n",
      "LoanOnCard             float64\n",
      "dtype: object\n"
     ]
    }
   ],
   "source": [
    "print(\"Data1 has datatypes as follows,\")\n",
    "print(data1.dtypes)\n",
    "print(\"*\"*20)\n",
    "print(\"Data2 has datatypes as follows,\")\n",
    "print(data2.dtypes)"
   ]
  },
  {
   "cell_type": "code",
   "execution_count": 177,
   "id": "901fcca4",
   "metadata": {},
   "outputs": [
    {
     "data": {
      "text/html": [
       "<div>\n",
       "<style scoped>\n",
       "    .dataframe tbody tr th:only-of-type {\n",
       "        vertical-align: middle;\n",
       "    }\n",
       "\n",
       "    .dataframe tbody tr th {\n",
       "        vertical-align: top;\n",
       "    }\n",
       "\n",
       "    .dataframe thead th {\n",
       "        text-align: right;\n",
       "    }\n",
       "</style>\n",
       "<table border=\"1\" class=\"dataframe\">\n",
       "  <thead>\n",
       "    <tr style=\"text-align: right;\">\n",
       "      <th></th>\n",
       "      <th>ID</th>\n",
       "      <th>Age</th>\n",
       "      <th>CustomerSince</th>\n",
       "      <th>HighestSpend</th>\n",
       "      <th>ZipCode</th>\n",
       "      <th>HiddenScore</th>\n",
       "      <th>MonthlyAverageSpend</th>\n",
       "      <th>Level</th>\n",
       "      <th>Mortgage</th>\n",
       "      <th>Security</th>\n",
       "      <th>FixedDepositAccount</th>\n",
       "      <th>InternetBanking</th>\n",
       "      <th>CreditCard</th>\n",
       "      <th>LoanOnCard</th>\n",
       "    </tr>\n",
       "  </thead>\n",
       "  <tbody>\n",
       "    <tr>\n",
       "      <th>0</th>\n",
       "      <td>1</td>\n",
       "      <td>25</td>\n",
       "      <td>1</td>\n",
       "      <td>49</td>\n",
       "      <td>91107</td>\n",
       "      <td>4</td>\n",
       "      <td>1.60</td>\n",
       "      <td>1</td>\n",
       "      <td>0</td>\n",
       "      <td>1</td>\n",
       "      <td>0</td>\n",
       "      <td>0</td>\n",
       "      <td>0</td>\n",
       "      <td>NaN</td>\n",
       "    </tr>\n",
       "    <tr>\n",
       "      <th>1</th>\n",
       "      <td>2</td>\n",
       "      <td>45</td>\n",
       "      <td>19</td>\n",
       "      <td>34</td>\n",
       "      <td>90089</td>\n",
       "      <td>3</td>\n",
       "      <td>1.50</td>\n",
       "      <td>1</td>\n",
       "      <td>0</td>\n",
       "      <td>1</td>\n",
       "      <td>0</td>\n",
       "      <td>0</td>\n",
       "      <td>0</td>\n",
       "      <td>NaN</td>\n",
       "    </tr>\n",
       "    <tr>\n",
       "      <th>2</th>\n",
       "      <td>3</td>\n",
       "      <td>39</td>\n",
       "      <td>15</td>\n",
       "      <td>11</td>\n",
       "      <td>94720</td>\n",
       "      <td>1</td>\n",
       "      <td>1.00</td>\n",
       "      <td>1</td>\n",
       "      <td>0</td>\n",
       "      <td>0</td>\n",
       "      <td>0</td>\n",
       "      <td>0</td>\n",
       "      <td>0</td>\n",
       "      <td>NaN</td>\n",
       "    </tr>\n",
       "    <tr>\n",
       "      <th>3</th>\n",
       "      <td>4</td>\n",
       "      <td>35</td>\n",
       "      <td>9</td>\n",
       "      <td>100</td>\n",
       "      <td>94112</td>\n",
       "      <td>1</td>\n",
       "      <td>2.70</td>\n",
       "      <td>2</td>\n",
       "      <td>0</td>\n",
       "      <td>0</td>\n",
       "      <td>0</td>\n",
       "      <td>0</td>\n",
       "      <td>0</td>\n",
       "      <td>NaN</td>\n",
       "    </tr>\n",
       "    <tr>\n",
       "      <th>4</th>\n",
       "      <td>5</td>\n",
       "      <td>35</td>\n",
       "      <td>8</td>\n",
       "      <td>45</td>\n",
       "      <td>91330</td>\n",
       "      <td>4</td>\n",
       "      <td>1.00</td>\n",
       "      <td>2</td>\n",
       "      <td>0</td>\n",
       "      <td>0</td>\n",
       "      <td>0</td>\n",
       "      <td>0</td>\n",
       "      <td>1</td>\n",
       "      <td>NaN</td>\n",
       "    </tr>\n",
       "  </tbody>\n",
       "</table>\n",
       "</div>"
      ],
      "text/plain": [
       "   ID  Age  CustomerSince  HighestSpend  ZipCode  HiddenScore  MonthlyAverageSpend  Level  Mortgage  Security  FixedDepositAccount  InternetBanking  CreditCard  LoanOnCard\n",
       "0   1   25              1            49    91107            4                 1.60      1         0         1                    0                0           0         NaN\n",
       "1   2   45             19            34    90089            3                 1.50      1         0         1                    0                0           0         NaN\n",
       "2   3   39             15            11    94720            1                 1.00      1         0         0                    0                0           0         NaN\n",
       "3   4   35              9           100    94112            1                 2.70      2         0         0                    0                0           0         NaN\n",
       "4   5   35              8            45    91330            4                 1.00      2         0         0                    0                0           1         NaN"
      ]
     },
     "execution_count": 177,
     "metadata": {},
     "output_type": "execute_result"
    }
   ],
   "source": [
    "#Merge both the Dataframes on ‘ID’ feature to form a single DataFrame\n",
    "comb_data = data1.merge(data2, on='ID')\n",
    "comb_data.head()\n"
   ]
  },
  {
   "cell_type": "code",
   "execution_count": 178,
   "id": "bf2aabd8",
   "metadata": {},
   "outputs": [
    {
     "data": {
      "text/plain": [
       "ID                       int64\n",
       "Age                      int64\n",
       "CustomerSince            int64\n",
       "HighestSpend             int64\n",
       "ZipCode                  int64\n",
       "HiddenScore             object\n",
       "MonthlyAverageSpend    float64\n",
       "Level                   object\n",
       "Mortgage                 int64\n",
       "Security                object\n",
       "FixedDepositAccount     object\n",
       "InternetBanking         object\n",
       "CreditCard              object\n",
       "LoanOnCard             float64\n",
       "dtype: object"
      ]
     },
     "execution_count": 178,
     "metadata": {},
     "output_type": "execute_result"
    }
   ],
   "source": [
    "#Change Datatype of below features to ‘Object ‘CreditCard’, ‘InternetBanking’, ‘FixedDepositAccount’, ‘Security’, ‘Level’, ‘HiddenScore’\n",
    "comb_data[['CreditCard', 'InternetBanking', 'FixedDepositAccount', 'Security', 'Level', 'HiddenScore']] = comb_data[['CreditCard', 'InternetBanking', 'FixedDepositAccount', 'Security', 'Level', 'HiddenScore']].astype('object')\n",
    "comb_data.dtypes"
   ]
  },
  {
   "cell_type": "markdown",
   "id": "6d449743",
   "metadata": {},
   "source": [
    "### Data Exploration and Analysis\n"
   ]
  },
  {
   "cell_type": "code",
   "execution_count": 179,
   "id": "6c5bcb9a",
   "metadata": {},
   "outputs": [
    {
     "data": {
      "text/plain": [
       "Text(0.5, 1.0, 'Distribution of Loan on card')"
      ]
     },
     "execution_count": 179,
     "metadata": {},
     "output_type": "execute_result"
    },
    {
     "data": {
      "image/png": "[encoded data removed]",
      "text/plain": [
       "<Figure size 640x480 with 1 Axes>"
      ]
     },
     "metadata": {},
     "output_type": "display_data"
    }
   ],
   "source": [
    "#Visualize distribution of Target variable ‘LoanOnCard’ and clearly share insights\n",
    "sns.countplot(comb_data, x=\"LoanOnCard\")\n",
    "\n",
    "plt.xlabel(\"Loan On Card\")\n",
    "plt.title(\"Distribution of Loan on card\")"
   ]
  },
  {
   "cell_type": "markdown",
   "id": "0d163fd9",
   "metadata": {},
   "source": [
    "There are large number of customers with No Loan on card compared to small number of customers with Loan on card."
   ]
  },
  {
   "cell_type": "code",
   "execution_count": 180,
   "id": "af9cbdab",
   "metadata": {},
   "outputs": [
    {
     "name": "stdout",
     "output_type": "stream",
     "text": [
      "ID                    0.00\n",
      "Age                   0.00\n",
      "CustomerSince         0.00\n",
      "HighestSpend          0.00\n",
      "ZipCode               0.00\n",
      "HiddenScore           0.00\n",
      "MonthlyAverageSpend   0.00\n",
      "Level                 0.00\n",
      "Mortgage              0.00\n",
      "Security              0.00\n",
      "FixedDepositAccount   0.00\n",
      "InternetBanking       0.00\n",
      "CreditCard            0.00\n",
      "LoanOnCard            0.40\n",
      "dtype: float64\n"
     ]
    }
   ],
   "source": [
    "#Check the percentage of missing values and impute if required\n",
    "missing_value_perc = comb_data.isnull().sum()*100/len(comb_data)\n",
    "print(missing_value_perc)"
   ]
  },
  {
   "cell_type": "markdown",
   "id": "3f56f1d8",
   "metadata": {},
   "source": [
    "As LoanOnCard column has missing values we will impute them with median of the column."
   ]
  },
  {
   "cell_type": "code",
   "execution_count": 181,
   "id": "1a34675b",
   "metadata": {},
   "outputs": [
    {
     "data": {
      "text/plain": [
       "ID                       int64\n",
       "Age                      int64\n",
       "CustomerSince            int64\n",
       "HighestSpend             int64\n",
       "ZipCode                  int64\n",
       "HiddenScore             object\n",
       "MonthlyAverageSpend    float64\n",
       "Level                   object\n",
       "Mortgage                 int64\n",
       "Security                object\n",
       "FixedDepositAccount     object\n",
       "InternetBanking         object\n",
       "CreditCard              object\n",
       "LoanOnCard             float64\n",
       "dtype: object"
      ]
     },
     "execution_count": 181,
     "metadata": {},
     "output_type": "execute_result"
    }
   ],
   "source": [
    "comb_data.dtypes"
   ]
  },
  {
   "cell_type": "code",
   "execution_count": 182,
   "id": "f61b29c8",
   "metadata": {},
   "outputs": [],
   "source": [
    "comb_data_imputed = comb_data.copy()"
   ]
  },
  {
   "cell_type": "code",
   "execution_count": 183,
   "id": "104f9c50",
   "metadata": {},
   "outputs": [
    {
     "name": "stdout",
     "output_type": "stream",
     "text": [
      "[0 1]\n",
      "[0 1]\n",
      "[0 1]\n",
      "[1 0]\n",
      "[1 2 3]\n",
      "[4 3 1 2]\n"
     ]
    }
   ],
   "source": [
    "print(comb_data_imputed[\"CreditCard\"].unique())\n",
    "print(comb_data_imputed[\"InternetBanking\"].unique())\n",
    "print(comb_data_imputed[\"FixedDepositAccount\"].unique())\n",
    "print(comb_data_imputed[\"Security\"].unique())\n",
    "print(comb_data_imputed[\"Level\"].unique())\n",
    "print(comb_data_imputed[\"HiddenScore\"].unique())"
   ]
  },
  {
   "cell_type": "markdown",
   "id": "a77c1650",
   "metadata": {},
   "source": [
    "**Except the Level and HiddenScore column all other fetaures are portraying YES or NO information, example if a customer has credit card it is \"1\" and if not it is \"0\", however in the two features mentioned the are identified as the unique scoring for each customer. So we wont be imputing them as there levels are corelated to our target variable.**"
   ]
  },
  {
   "cell_type": "code",
   "execution_count": 184,
   "id": "ded60756",
   "metadata": {},
   "outputs": [
    {
     "name": "stdout",
     "output_type": "stream",
     "text": [
      "unique_values in 'CreditCard': [0 1]\n",
      "unique_values in 'InternetBanking': [0 1]\n",
      "unique_values in 'FixedDepositAccount': [0 1]\n",
      "unique_values in 'Security': [1 0]\n"
     ]
    }
   ],
   "source": [
    "categorical_variables = ['CreditCard', 'InternetBanking', 'FixedDepositAccount', 'Security']\n",
    "\n",
    "for var in categorical_variables:\n",
    "    unique_values = comb_data_imputed[var].unique()\n",
    "    \n",
    "    print(f\"unique_values in '{var}': {unique_values}\")\n",
    "        \n",
    "    unexpected_values = [value for value in unique_values if value not in [0, 1]]\n",
    "   \n",
    "    \n",
    "    if unexpected_values:\n",
    "        print(f\"Unexpected values in '{var}': {unexpected_values}\")\n",
    "        \n",
    "        comb_data_imputed[var] = comb_data_imputed[var].replace(unexpected_values, np.nan)\n",
    "\n",
    "rows_with_nan_target = comb_data_imputed[comb_data_imputed['LoanOnCard'].isnull()]\n",
    "\n",
    "comb_data_imputed['LoanOnCard'].fillna(comb_data_imputed[\"LoanOnCard\"].median(), inplace=True)  # Replace NaN with its median"
   ]
  },
  {
   "cell_type": "markdown",
   "id": "46a45efa",
   "metadata": {},
   "source": [
    "**There are no values to be imputed.**\n",
    "**The LoanOnCard has null values which are imputed with its median.**"
   ]
  },
  {
   "cell_type": "code",
   "execution_count": 185,
   "id": "9d70f209",
   "metadata": {},
   "outputs": [
    {
     "name": "stdout",
     "output_type": "stream",
     "text": [
      "ID                    0.00\n",
      "Age                   0.00\n",
      "CustomerSince         0.00\n",
      "HighestSpend          0.00\n",
      "ZipCode               0.00\n",
      "HiddenScore           0.00\n",
      "MonthlyAverageSpend   0.00\n",
      "Level                 0.00\n",
      "Mortgage              0.00\n",
      "Security              0.00\n",
      "FixedDepositAccount   0.00\n",
      "InternetBanking       0.00\n",
      "CreditCard            0.00\n",
      "LoanOnCard            0.00\n",
      "dtype: float64\n"
     ]
    }
   ],
   "source": [
    "missing_value_perc_imputed = comb_data_imputed.isnull().sum()*100/len(comb_data)\n",
    "print(missing_value_perc_imputed)"
   ]
  },
  {
   "cell_type": "markdown",
   "id": "f24ffbe8",
   "metadata": {},
   "source": [
    "**Data Preparation and model building:**"
   ]
  },
  {
   "cell_type": "code",
   "execution_count": 186,
   "id": "70a05036",
   "metadata": {},
   "outputs": [
    {
     "data": {
      "text/plain": [
       "Index(['ID', 'Age', 'CustomerSince', 'HighestSpend', 'ZipCode', 'HiddenScore', 'MonthlyAverageSpend', 'Level', 'Mortgage', 'Security', 'FixedDepositAccount', 'InternetBanking', 'CreditCard', 'LoanOnCard'], dtype='object')"
      ]
     },
     "execution_count": 186,
     "metadata": {},
     "output_type": "execute_result"
    }
   ],
   "source": [
    "comb_data_imputed.columns"
   ]
  },
  {
   "cell_type": "code",
   "execution_count": null,
   "id": "5be6907b-1a09-4316-a255-dc82e4b8b8c5",
   "metadata": {},
   "outputs": [],
   "source": []
  },
  {
   "cell_type": "code",
   "execution_count": 187,
   "id": "fe4c0561",
   "metadata": {},
   "outputs": [],
   "source": [
    "#Split data into X and Y\n",
    "comb_data_imputed_1 = comb_data_imputed.copy()\n",
    "X = comb_data_imputed_1.drop(['ID', 'ZipCode', 'LoanOnCard'], axis=1)\n",
    "Y = comb_data_imputed_1[\"LoanOnCard\"]"
   ]
  },
  {
   "cell_type": "code",
   "execution_count": 188,
   "id": "ae8a09f4",
   "metadata": {},
   "outputs": [],
   "source": [
    "#Split data into train and test. Keep 25% data reserved for testing. \n",
    "from sklearn.model_selection import train_test_split\n",
    "\n",
    "X_train, X_test, Y_train, Y_test = train_test_split(X, Y, test_size=0.25, random_state=42)"
   ]
  },
  {
   "cell_type": "code",
   "execution_count": 189,
   "id": "3a487bcf",
   "metadata": {},
   "outputs": [
    {
     "data": {
      "text/html": [
       "<style>#sk-container-id-14 {color: black;background-color: white;}#sk-container-id-14 pre{padding: 0;}#sk-container-id-14 div.sk-toggleable {background-color: white;}#sk-container-id-14 label.sk-toggleable__label {cursor: pointer;display: block;width: 100%;margin-bottom: 0;padding: 0.3em;box-sizing: border-box;text-align: center;}#sk-container-id-14 label.sk-toggleable__label-arrow:before {content: \"▸\";float: left;margin-right: 0.25em;color: #696969;}#sk-container-id-14 label.sk-toggleable__label-arrow:hover:before {color: black;}#sk-container-id-14 div.sk-estimator:hover label.sk-toggleable__label-arrow:before {color: black;}#sk-container-id-14 div.sk-toggleable__content {max-height: 0;max-width: 0;overflow: hidden;text-align: left;background-color: #f0f8ff;}#sk-container-id-14 div.sk-toggleable__content pre {margin: 0.2em;color: black;border-radius: 0.25em;background-color: #f0f8ff;}#sk-container-id-14 input.sk-toggleable__control:checked~div.sk-toggleable__content {max-height: 200px;max-width: 100%;overflow: auto;}#sk-container-id-14 input.sk-toggleable__control:checked~label.sk-toggleable__label-arrow:before {content: \"▾\";}#sk-container-id-14 div.sk-estimator input.sk-toggleable__control:checked~label.sk-toggleable__label {background-color: #d4ebff;}#sk-container-id-14 div.sk-label input.sk-toggleable__control:checked~label.sk-toggleable__label {background-color: #d4ebff;}#sk-container-id-14 input.sk-hidden--visually {border: 0;clip: rect(1px 1px 1px 1px);clip: rect(1px, 1px, 1px, 1px);height: 1px;margin: -1px;overflow: hidden;padding: 0;position: absolute;width: 1px;}#sk-container-id-14 div.sk-estimator {font-family: monospace;background-color: #f0f8ff;border: 1px dotted black;border-radius: 0.25em;box-sizing: border-box;margin-bottom: 0.5em;}#sk-container-id-14 div.sk-estimator:hover {background-color: #d4ebff;}#sk-container-id-14 div.sk-parallel-item::after {content: \"\";width: 100%;border-bottom: 1px solid gray;flex-grow: 1;}#sk-container-id-14 div.sk-label:hover label.sk-toggleable__label {background-color: #d4ebff;}#sk-container-id-14 div.sk-serial::before {content: \"\";position: absolute;border-left: 1px solid gray;box-sizing: border-box;top: 0;bottom: 0;left: 50%;z-index: 0;}#sk-container-id-14 div.sk-serial {display: flex;flex-direction: column;align-items: center;background-color: white;padding-right: 0.2em;padding-left: 0.2em;position: relative;}#sk-container-id-14 div.sk-item {position: relative;z-index: 1;}#sk-container-id-14 div.sk-parallel {display: flex;align-items: stretch;justify-content: center;background-color: white;position: relative;}#sk-container-id-14 div.sk-item::before, #sk-container-id-14 div.sk-parallel-item::before {content: \"\";position: absolute;border-left: 1px solid gray;box-sizing: border-box;top: 0;bottom: 0;left: 50%;z-index: -1;}#sk-container-id-14 div.sk-parallel-item {display: flex;flex-direction: column;z-index: 1;position: relative;background-color: white;}#sk-container-id-14 div.sk-parallel-item:first-child::after {align-self: flex-end;width: 50%;}#sk-container-id-14 div.sk-parallel-item:last-child::after {align-self: flex-start;width: 50%;}#sk-container-id-14 div.sk-parallel-item:only-child::after {width: 0;}#sk-container-id-14 div.sk-dashed-wrapped {border: 1px dashed gray;margin: 0 0.4em 0.5em 0.4em;box-sizing: border-box;padding-bottom: 0.4em;background-color: white;}#sk-container-id-14 div.sk-label label {font-family: monospace;font-weight: bold;display: inline-block;line-height: 1.2em;}#sk-container-id-14 div.sk-label-container {text-align: center;}#sk-container-id-14 div.sk-container {/* jupyter's `normalize.less` sets `[hidden] { display: none; }` but bootstrap.min.css set `[hidden] { display: none !important; }` so we also need the `!important` here to be able to override the default hidden behavior on the sphinx rendered scikit-learn.org. See: https://github.com/scikit-learn/scikit-learn/issues/21755 */display: inline-block !important;position: relative;}#sk-container-id-14 div.sk-text-repr-fallback {display: none;}</style><div id=\"sk-container-id-14\" class=\"sk-top-container\"><div class=\"sk-text-repr-fallback\"><pre>LogisticRegression(max_iter=10000)</pre><b>In a Jupyter environment, please rerun this cell to show the HTML representation or trust the notebook. <br />On GitHub, the HTML representation is unable to render, please try loading this page with nbviewer.org.</b></div><div class=\"sk-container\" hidden><div class=\"sk-item\"><div class=\"sk-estimator sk-toggleable\"><input class=\"sk-toggleable__control sk-hidden--visually\" id=\"sk-estimator-id-14\" type=\"checkbox\" checked><label for=\"sk-estimator-id-14\" class=\"sk-toggleable__label sk-toggleable__label-arrow\">LogisticRegression</label><div class=\"sk-toggleable__content\"><pre>LogisticRegression(max_iter=10000)</pre></div></div></div></div></div>"
      ],
      "text/plain": [
       "LogisticRegression(max_iter=10000)"
      ]
     },
     "execution_count": 189,
     "metadata": {},
     "output_type": "execute_result"
    }
   ],
   "source": [
    "#Train a Supervised Learning Classification base model - Logistic Regression.\n",
    "from sklearn.linear_model import LogisticRegression\n",
    "\n",
    "lm = LogisticRegression(max_iter=10000)\n",
    "lm.fit(X_train, Y_train)"
   ]
  },
  {
   "cell_type": "code",
   "execution_count": 190,
   "id": "438d1488",
   "metadata": {
    "scrolled": true
   },
   "outputs": [
    {
     "name": "stdout",
     "output_type": "stream",
     "text": [
      "Accuracy: 0.95\n",
      "Precision: 0.86\n",
      "Recall: 0.63\n",
      "F1-Score: 0.72\n",
      "Confusion Matrix:\n",
      "[[1102   14]\n",
      " [  50   84]]\n"
     ]
    }
   ],
   "source": [
    "#Print evaluation metrics for the model and clearly share insights\n",
    "from sklearn.metrics import accuracy_score, precision_score, recall_score, f1_score, confusion_matrix\n",
    "\n",
    "\n",
    "Y_pred_test = lm.predict(X_test)\n",
    "\n",
    "# Calculate metrics\n",
    "accuracy = accuracy_score(Y_test, Y_pred_test) \n",
    "precision = precision_score(Y_test, Y_pred_test) \n",
    "recall = recall_score(Y_test, Y_pred_test) \n",
    "f1 = f1_score(Y_test, Y_pred_test) \n",
    "confusion = confusion_matrix(Y_test, Y_pred_test) \n",
    "\n",
    "# Print metrics and insights\n",
    "print(f\"Accuracy: {accuracy:.2f}\")\n",
    "print(f\"Precision: {precision:.2f}\")\n",
    "print(f\"Recall: {recall:.2f}\")\n",
    "print(f\"F1-Score: {f1:.2f}\")\n",
    "print(\"Confusion Matrix:\")\n",
    "print(confusion)"
   ]
  },
  {
   "cell_type": "code",
   "execution_count": 191,
   "id": "81ff13d7",
   "metadata": {},
   "outputs": [
    {
     "data": {
      "image/png": "[encoded data removed]",
      "text/plain": [
       "<Figure size 800x800 with 1 Axes>"
      ]
     },
     "metadata": {},
     "output_type": "display_data"
    }
   ],
   "source": [
    "from sklearn.metrics import roc_curve, auc\n",
    "\n",
    "def plot_roc_curve(y_true, y_scores, label='ROC Curve'):\n",
    "    fpr, tpr, _ = roc_curve(y_true, y_scores)\n",
    "    roc_auc = auc(fpr, tpr)\n",
    "\n",
    "    plt.figure(figsize=(8, 8))\n",
    "    plt.plot(fpr, tpr, label=f'{label} (AUC = {roc_auc:.2f})')\n",
    "    plt.plot([0, 1], [0, 1], linestyle='--', color='gray', label='Random')\n",
    "    plt.title('ROC Curve')\n",
    "    plt.xlabel('False Positive Rate')\n",
    "    plt.ylabel('True Positive Rate')\n",
    "    plt.legend()\n",
    "    plt.show()\n",
    "\n",
    "\n",
    "plot_roc_curve(Y_test, Y_pred_test, label='lm_base')"
   ]
  },
  {
   "cell_type": "markdown",
   "id": "985d6536",
   "metadata": {},
   "source": [
    "**5) Balance the data using the right balancing technique.**"
   ]
  },
  {
   "cell_type": "code",
   "execution_count": 192,
   "id": "d8f60ba2",
   "metadata": {},
   "outputs": [
    {
     "name": "stdout",
     "output_type": "stream",
     "text": [
      "Requirement already satisfied: imbalanced-learn in c:\\python311\\lib\\site-packages (0.11.0)\n",
      "Requirement already satisfied: numpy>=1.17.3 in c:\\python311\\lib\\site-packages (from imbalanced-learn) (1.25.1)\n",
      "Requirement already satisfied: scipy>=1.5.0 in c:\\python311\\lib\\site-packages (from imbalanced-learn) (1.11.4)\n",
      "Requirement already satisfied: scikit-learn>=1.0.2 in c:\\python311\\lib\\site-packages (from imbalanced-learn) (1.2.2)\n",
      "Requirement already satisfied: joblib>=1.1.1 in c:\\python311\\lib\\site-packages (from imbalanced-learn) (1.3.2)\n",
      "Requirement already satisfied: threadpoolctl>=2.0.0 in c:\\python311\\lib\\site-packages (from imbalanced-learn) (3.2.0)\n"
     ]
    }
   ],
   "source": [
    "!pip install imbalanced-learn\n"
   ]
  },
  {
   "cell_type": "code",
   "execution_count": 193,
   "id": "5640bcaa",
   "metadata": {},
   "outputs": [],
   "source": [
    "from imblearn.over_sampling import RandomOverSampler\n",
    "from imblearn.under_sampling import RandomUnderSampler\n",
    "\n",
    "# Check the distribution of the target variable\n",
    "class_A_count = (Y_train == 0).sum()\n",
    "class_B_count = (Y_train == 1).sum()\n",
    "\n",
    "# Calculate the balanced count\n",
    "balanced_count = min(class_A_count, class_B_count)\n",
    "\n",
    "if class_A_count < class_B_count:\n",
    "    # If class A is the minority class, oversample it\n",
    "    sampler = RandomOverSampler(sampling_strategy=balanced_count / class_A_count, random_state=42)\n",
    "    X_train_resampled, Y_train_resampled = sampler.fit_resample(X_train, Y_train)\n",
    "else:\n",
    "    # If class B is the minority class, undersample it\n",
    "    under_sampler = RandomUnderSampler(sampling_strategy='auto', random_state=42)\n",
    "    X_train_resampled, Y_train_resampled = under_sampler.fit_resample(X_train, Y_train)"
   ]
  },
  {
   "cell_type": "code",
   "execution_count": 194,
   "id": "522cd3fd",
   "metadata": {},
   "outputs": [
    {
     "name": "stdout",
     "output_type": "stream",
     "text": [
      "Class A output is  90.77%\n",
      "Class B output is  9.23%\n"
     ]
    }
   ],
   "source": [
    "countA =(class_A_count*100)/len(Y_train)\n",
    "countB=(class_B_count*100)/len(Y_train)\n",
    "print(f\"Class A output is {countA: .2f}%\")\n",
    "print(f\"Class B output is {countB: .2f}%\")"
   ]
  },
  {
   "cell_type": "code",
   "execution_count": 195,
   "id": "47504cbf",
   "metadata": {},
   "outputs": [
    {
     "data": {
      "text/plain": [
       "LoanOnCard\n",
       "0.00    346\n",
       "1.00    346\n",
       "Name: count, dtype: int64"
      ]
     },
     "execution_count": 195,
     "metadata": {},
     "output_type": "execute_result"
    }
   ],
   "source": [
    "#balance the target variable as 50:50.\n",
    "Y_train_resampled.value_counts()"
   ]
  },
  {
   "cell_type": "code",
   "execution_count": 196,
   "id": "60a60226-10f6-4345-9177-a52274e92c6a",
   "metadata": {},
   "outputs": [
    {
     "data": {
      "text/html": [
       "<style>#sk-container-id-15 {color: black;background-color: white;}#sk-container-id-15 pre{padding: 0;}#sk-container-id-15 div.sk-toggleable {background-color: white;}#sk-container-id-15 label.sk-toggleable__label {cursor: pointer;display: block;width: 100%;margin-bottom: 0;padding: 0.3em;box-sizing: border-box;text-align: center;}#sk-container-id-15 label.sk-toggleable__label-arrow:before {content: \"▸\";float: left;margin-right: 0.25em;color: #696969;}#sk-container-id-15 label.sk-toggleable__label-arrow:hover:before {color: black;}#sk-container-id-15 div.sk-estimator:hover label.sk-toggleable__label-arrow:before {color: black;}#sk-container-id-15 div.sk-toggleable__content {max-height: 0;max-width: 0;overflow: hidden;text-align: left;background-color: #f0f8ff;}#sk-container-id-15 div.sk-toggleable__content pre {margin: 0.2em;color: black;border-radius: 0.25em;background-color: #f0f8ff;}#sk-container-id-15 input.sk-toggleable__control:checked~div.sk-toggleable__content {max-height: 200px;max-width: 100%;overflow: auto;}#sk-container-id-15 input.sk-toggleable__control:checked~label.sk-toggleable__label-arrow:before {content: \"▾\";}#sk-container-id-15 div.sk-estimator input.sk-toggleable__control:checked~label.sk-toggleable__label {background-color: #d4ebff;}#sk-container-id-15 div.sk-label input.sk-toggleable__control:checked~label.sk-toggleable__label {background-color: #d4ebff;}#sk-container-id-15 input.sk-hidden--visually {border: 0;clip: rect(1px 1px 1px 1px);clip: rect(1px, 1px, 1px, 1px);height: 1px;margin: -1px;overflow: hidden;padding: 0;position: absolute;width: 1px;}#sk-container-id-15 div.sk-estimator {font-family: monospace;background-color: #f0f8ff;border: 1px dotted black;border-radius: 0.25em;box-sizing: border-box;margin-bottom: 0.5em;}#sk-container-id-15 div.sk-estimator:hover {background-color: #d4ebff;}#sk-container-id-15 div.sk-parallel-item::after {content: \"\";width: 100%;border-bottom: 1px solid gray;flex-grow: 1;}#sk-container-id-15 div.sk-label:hover label.sk-toggleable__label {background-color: #d4ebff;}#sk-container-id-15 div.sk-serial::before {content: \"\";position: absolute;border-left: 1px solid gray;box-sizing: border-box;top: 0;bottom: 0;left: 50%;z-index: 0;}#sk-container-id-15 div.sk-serial {display: flex;flex-direction: column;align-items: center;background-color: white;padding-right: 0.2em;padding-left: 0.2em;position: relative;}#sk-container-id-15 div.sk-item {position: relative;z-index: 1;}#sk-container-id-15 div.sk-parallel {display: flex;align-items: stretch;justify-content: center;background-color: white;position: relative;}#sk-container-id-15 div.sk-item::before, #sk-container-id-15 div.sk-parallel-item::before {content: \"\";position: absolute;border-left: 1px solid gray;box-sizing: border-box;top: 0;bottom: 0;left: 50%;z-index: -1;}#sk-container-id-15 div.sk-parallel-item {display: flex;flex-direction: column;z-index: 1;position: relative;background-color: white;}#sk-container-id-15 div.sk-parallel-item:first-child::after {align-self: flex-end;width: 50%;}#sk-container-id-15 div.sk-parallel-item:last-child::after {align-self: flex-start;width: 50%;}#sk-container-id-15 div.sk-parallel-item:only-child::after {width: 0;}#sk-container-id-15 div.sk-dashed-wrapped {border: 1px dashed gray;margin: 0 0.4em 0.5em 0.4em;box-sizing: border-box;padding-bottom: 0.4em;background-color: white;}#sk-container-id-15 div.sk-label label {font-family: monospace;font-weight: bold;display: inline-block;line-height: 1.2em;}#sk-container-id-15 div.sk-label-container {text-align: center;}#sk-container-id-15 div.sk-container {/* jupyter's `normalize.less` sets `[hidden] { display: none; }` but bootstrap.min.css set `[hidden] { display: none !important; }` so we also need the `!important` here to be able to override the default hidden behavior on the sphinx rendered scikit-learn.org. See: https://github.com/scikit-learn/scikit-learn/issues/21755 */display: inline-block !important;position: relative;}#sk-container-id-15 div.sk-text-repr-fallback {display: none;}</style><div id=\"sk-container-id-15\" class=\"sk-top-container\"><div class=\"sk-text-repr-fallback\"><pre>LogisticRegression(max_iter=10000)</pre><b>In a Jupyter environment, please rerun this cell to show the HTML representation or trust the notebook. <br />On GitHub, the HTML representation is unable to render, please try loading this page with nbviewer.org.</b></div><div class=\"sk-container\" hidden><div class=\"sk-item\"><div class=\"sk-estimator sk-toggleable\"><input class=\"sk-toggleable__control sk-hidden--visually\" id=\"sk-estimator-id-15\" type=\"checkbox\" checked><label for=\"sk-estimator-id-15\" class=\"sk-toggleable__label sk-toggleable__label-arrow\">LogisticRegression</label><div class=\"sk-toggleable__content\"><pre>LogisticRegression(max_iter=10000)</pre></div></div></div></div></div>"
      ],
      "text/plain": [
       "LogisticRegression(max_iter=10000)"
      ]
     },
     "execution_count": 196,
     "metadata": {},
     "output_type": "execute_result"
    }
   ],
   "source": [
    "#Again train the same previous model on balanced data\n",
    "logistic_model = LogisticRegression(max_iter=10000)\n",
    "logistic_model.fit(X_train_resampled, Y_train_resampled)"
   ]
  },
  {
   "cell_type": "code",
   "execution_count": 197,
   "id": "e53021c3-c0c0-4201-b1e2-53cbc76273c7",
   "metadata": {},
   "outputs": [
    {
     "name": "stdout",
     "output_type": "stream",
     "text": [
      "Accuracy: 0.89\n",
      "Precision: 0.50\n",
      "Recall: 0.90\n",
      "F1-Score: 0.64\n",
      "Confusion Matrix:\n",
      "[[994 122]\n",
      " [ 13 121]]\n"
     ]
    }
   ],
   "source": [
    "#Print evaluation metrics and clearly share differences observed. \n",
    "Y_pred = logistic_model.predict(X_test)\n",
    "\n",
    "# Calculate metrics\n",
    "accuracy = accuracy_score(Y_test, Y_pred) \n",
    "precision = precision_score(Y_test, Y_pred) \n",
    "recall = recall_score(Y_test, Y_pred) \n",
    "f1 = f1_score(Y_test, Y_pred) \n",
    "confusion = confusion_matrix(Y_test, Y_pred) \n",
    "\n",
    "# Print metrics and insights\n",
    "print(f\"Accuracy: {accuracy:.2f}\")\n",
    "print(f\"Precision: {precision:.2f}\")\n",
    "print(f\"Recall: {recall:.2f}\")\n",
    "print(f\"F1-Score: {f1:.2f}\")\n",
    "print(\"Confusion Matrix:\")\n",
    "print(confusion)"
   ]
  },
  {
   "cell_type": "markdown",
   "id": "a1554826-2471-4f59-9a92-283557f4d521",
   "metadata": {},
   "source": [
    "* Accuracy has reduced from 95% to 89%.\n",
    "* Precision has plunged to 50% from 86%.\n",
    "* Recall has upgraded from 63% to 90%.\n",
    "* F1-Score has reduced from 72% to 64%.\n",
    "* The Type 1 error or False positives have reduced to 13 from 50."
   ]
  },
  {
   "cell_type": "markdown",
   "id": "3506c62c-3558-43be-bdaa-5c31af225455",
   "metadata": {},
   "source": [
    "## Performance Improvement"
   ]
  },
  {
   "cell_type": "code",
   "execution_count": 198,
   "id": "c6a67252-c898-4cfe-9819-37330cb55d92",
   "metadata": {},
   "outputs": [
    {
     "data": {
      "text/html": [
       "<style>#sk-container-id-16 {color: black;background-color: white;}#sk-container-id-16 pre{padding: 0;}#sk-container-id-16 div.sk-toggleable {background-color: white;}#sk-container-id-16 label.sk-toggleable__label {cursor: pointer;display: block;width: 100%;margin-bottom: 0;padding: 0.3em;box-sizing: border-box;text-align: center;}#sk-container-id-16 label.sk-toggleable__label-arrow:before {content: \"▸\";float: left;margin-right: 0.25em;color: #696969;}#sk-container-id-16 label.sk-toggleable__label-arrow:hover:before {color: black;}#sk-container-id-16 div.sk-estimator:hover label.sk-toggleable__label-arrow:before {color: black;}#sk-container-id-16 div.sk-toggleable__content {max-height: 0;max-width: 0;overflow: hidden;text-align: left;background-color: #f0f8ff;}#sk-container-id-16 div.sk-toggleable__content pre {margin: 0.2em;color: black;border-radius: 0.25em;background-color: #f0f8ff;}#sk-container-id-16 input.sk-toggleable__control:checked~div.sk-toggleable__content {max-height: 200px;max-width: 100%;overflow: auto;}#sk-container-id-16 input.sk-toggleable__control:checked~label.sk-toggleable__label-arrow:before {content: \"▾\";}#sk-container-id-16 div.sk-estimator input.sk-toggleable__control:checked~label.sk-toggleable__label {background-color: #d4ebff;}#sk-container-id-16 div.sk-label input.sk-toggleable__control:checked~label.sk-toggleable__label {background-color: #d4ebff;}#sk-container-id-16 input.sk-hidden--visually {border: 0;clip: rect(1px 1px 1px 1px);clip: rect(1px, 1px, 1px, 1px);height: 1px;margin: -1px;overflow: hidden;padding: 0;position: absolute;width: 1px;}#sk-container-id-16 div.sk-estimator {font-family: monospace;background-color: #f0f8ff;border: 1px dotted black;border-radius: 0.25em;box-sizing: border-box;margin-bottom: 0.5em;}#sk-container-id-16 div.sk-estimator:hover {background-color: #d4ebff;}#sk-container-id-16 div.sk-parallel-item::after {content: \"\";width: 100%;border-bottom: 1px solid gray;flex-grow: 1;}#sk-container-id-16 div.sk-label:hover label.sk-toggleable__label {background-color: #d4ebff;}#sk-container-id-16 div.sk-serial::before {content: \"\";position: absolute;border-left: 1px solid gray;box-sizing: border-box;top: 0;bottom: 0;left: 50%;z-index: 0;}#sk-container-id-16 div.sk-serial {display: flex;flex-direction: column;align-items: center;background-color: white;padding-right: 0.2em;padding-left: 0.2em;position: relative;}#sk-container-id-16 div.sk-item {position: relative;z-index: 1;}#sk-container-id-16 div.sk-parallel {display: flex;align-items: stretch;justify-content: center;background-color: white;position: relative;}#sk-container-id-16 div.sk-item::before, #sk-container-id-16 div.sk-parallel-item::before {content: \"\";position: absolute;border-left: 1px solid gray;box-sizing: border-box;top: 0;bottom: 0;left: 50%;z-index: -1;}#sk-container-id-16 div.sk-parallel-item {display: flex;flex-direction: column;z-index: 1;position: relative;background-color: white;}#sk-container-id-16 div.sk-parallel-item:first-child::after {align-self: flex-end;width: 50%;}#sk-container-id-16 div.sk-parallel-item:last-child::after {align-self: flex-start;width: 50%;}#sk-container-id-16 div.sk-parallel-item:only-child::after {width: 0;}#sk-container-id-16 div.sk-dashed-wrapped {border: 1px dashed gray;margin: 0 0.4em 0.5em 0.4em;box-sizing: border-box;padding-bottom: 0.4em;background-color: white;}#sk-container-id-16 div.sk-label label {font-family: monospace;font-weight: bold;display: inline-block;line-height: 1.2em;}#sk-container-id-16 div.sk-label-container {text-align: center;}#sk-container-id-16 div.sk-container {/* jupyter's `normalize.less` sets `[hidden] { display: none; }` but bootstrap.min.css set `[hidden] { display: none !important; }` so we also need the `!important` here to be able to override the default hidden behavior on the sphinx rendered scikit-learn.org. See: https://github.com/scikit-learn/scikit-learn/issues/21755 */display: inline-block !important;position: relative;}#sk-container-id-16 div.sk-text-repr-fallback {display: none;}</style><div id=\"sk-container-id-16\" class=\"sk-top-container\"><div class=\"sk-text-repr-fallback\"><pre>SVC(kernel=&#x27;linear&#x27;, random_state=42)</pre><b>In a Jupyter environment, please rerun this cell to show the HTML representation or trust the notebook. <br />On GitHub, the HTML representation is unable to render, please try loading this page with nbviewer.org.</b></div><div class=\"sk-container\" hidden><div class=\"sk-item\"><div class=\"sk-estimator sk-toggleable\"><input class=\"sk-toggleable__control sk-hidden--visually\" id=\"sk-estimator-id-16\" type=\"checkbox\" checked><label for=\"sk-estimator-id-16\" class=\"sk-toggleable__label sk-toggleable__label-arrow\">SVC</label><div class=\"sk-toggleable__content\"><pre>SVC(kernel=&#x27;linear&#x27;, random_state=42)</pre></div></div></div></div></div>"
      ],
      "text/plain": [
       "SVC(kernel='linear', random_state=42)"
      ]
     },
     "execution_count": 198,
     "metadata": {},
     "output_type": "execute_result"
    }
   ],
   "source": [
    "#Train a base model each for SVM, KNN\n",
    "# SVM Model\n",
    "from sklearn.svm import SVC\n",
    "\n",
    "svm_model = SVC(kernel='linear', random_state=42)\n",
    "svm_model.fit(X_train_resampled, Y_train_resampled)"
   ]
  },
  {
   "cell_type": "code",
   "execution_count": 199,
   "id": "4bdbc2a2-2601-4daa-9f59-6ec24e795683",
   "metadata": {},
   "outputs": [
    {
     "data": {
      "text/html": [
       "<style>#sk-container-id-17 {color: black;background-color: white;}#sk-container-id-17 pre{padding: 0;}#sk-container-id-17 div.sk-toggleable {background-color: white;}#sk-container-id-17 label.sk-toggleable__label {cursor: pointer;display: block;width: 100%;margin-bottom: 0;padding: 0.3em;box-sizing: border-box;text-align: center;}#sk-container-id-17 label.sk-toggleable__label-arrow:before {content: \"▸\";float: left;margin-right: 0.25em;color: #696969;}#sk-container-id-17 label.sk-toggleable__label-arrow:hover:before {color: black;}#sk-container-id-17 div.sk-estimator:hover label.sk-toggleable__label-arrow:before {color: black;}#sk-container-id-17 div.sk-toggleable__content {max-height: 0;max-width: 0;overflow: hidden;text-align: left;background-color: #f0f8ff;}#sk-container-id-17 div.sk-toggleable__content pre {margin: 0.2em;color: black;border-radius: 0.25em;background-color: #f0f8ff;}#sk-container-id-17 input.sk-toggleable__control:checked~div.sk-toggleable__content {max-height: 200px;max-width: 100%;overflow: auto;}#sk-container-id-17 input.sk-toggleable__control:checked~label.sk-toggleable__label-arrow:before {content: \"▾\";}#sk-container-id-17 div.sk-estimator input.sk-toggleable__control:checked~label.sk-toggleable__label {background-color: #d4ebff;}#sk-container-id-17 div.sk-label input.sk-toggleable__control:checked~label.sk-toggleable__label {background-color: #d4ebff;}#sk-container-id-17 input.sk-hidden--visually {border: 0;clip: rect(1px 1px 1px 1px);clip: rect(1px, 1px, 1px, 1px);height: 1px;margin: -1px;overflow: hidden;padding: 0;position: absolute;width: 1px;}#sk-container-id-17 div.sk-estimator {font-family: monospace;background-color: #f0f8ff;border: 1px dotted black;border-radius: 0.25em;box-sizing: border-box;margin-bottom: 0.5em;}#sk-container-id-17 div.sk-estimator:hover {background-color: #d4ebff;}#sk-container-id-17 div.sk-parallel-item::after {content: \"\";width: 100%;border-bottom: 1px solid gray;flex-grow: 1;}#sk-container-id-17 div.sk-label:hover label.sk-toggleable__label {background-color: #d4ebff;}#sk-container-id-17 div.sk-serial::before {content: \"\";position: absolute;border-left: 1px solid gray;box-sizing: border-box;top: 0;bottom: 0;left: 50%;z-index: 0;}#sk-container-id-17 div.sk-serial {display: flex;flex-direction: column;align-items: center;background-color: white;padding-right: 0.2em;padding-left: 0.2em;position: relative;}#sk-container-id-17 div.sk-item {position: relative;z-index: 1;}#sk-container-id-17 div.sk-parallel {display: flex;align-items: stretch;justify-content: center;background-color: white;position: relative;}#sk-container-id-17 div.sk-item::before, #sk-container-id-17 div.sk-parallel-item::before {content: \"\";position: absolute;border-left: 1px solid gray;box-sizing: border-box;top: 0;bottom: 0;left: 50%;z-index: -1;}#sk-container-id-17 div.sk-parallel-item {display: flex;flex-direction: column;z-index: 1;position: relative;background-color: white;}#sk-container-id-17 div.sk-parallel-item:first-child::after {align-self: flex-end;width: 50%;}#sk-container-id-17 div.sk-parallel-item:last-child::after {align-self: flex-start;width: 50%;}#sk-container-id-17 div.sk-parallel-item:only-child::after {width: 0;}#sk-container-id-17 div.sk-dashed-wrapped {border: 1px dashed gray;margin: 0 0.4em 0.5em 0.4em;box-sizing: border-box;padding-bottom: 0.4em;background-color: white;}#sk-container-id-17 div.sk-label label {font-family: monospace;font-weight: bold;display: inline-block;line-height: 1.2em;}#sk-container-id-17 div.sk-label-container {text-align: center;}#sk-container-id-17 div.sk-container {/* jupyter's `normalize.less` sets `[hidden] { display: none; }` but bootstrap.min.css set `[hidden] { display: none !important; }` so we also need the `!important` here to be able to override the default hidden behavior on the sphinx rendered scikit-learn.org. See: https://github.com/scikit-learn/scikit-learn/issues/21755 */display: inline-block !important;position: relative;}#sk-container-id-17 div.sk-text-repr-fallback {display: none;}</style><div id=\"sk-container-id-17\" class=\"sk-top-container\"><div class=\"sk-text-repr-fallback\"><pre>KNeighborsClassifier()</pre><b>In a Jupyter environment, please rerun this cell to show the HTML representation or trust the notebook. <br />On GitHub, the HTML representation is unable to render, please try loading this page with nbviewer.org.</b></div><div class=\"sk-container\" hidden><div class=\"sk-item\"><div class=\"sk-estimator sk-toggleable\"><input class=\"sk-toggleable__control sk-hidden--visually\" id=\"sk-estimator-id-17\" type=\"checkbox\" checked><label for=\"sk-estimator-id-17\" class=\"sk-toggleable__label sk-toggleable__label-arrow\">KNeighborsClassifier</label><div class=\"sk-toggleable__content\"><pre>KNeighborsClassifier()</pre></div></div></div></div></div>"
      ],
      "text/plain": [
       "KNeighborsClassifier()"
      ]
     },
     "execution_count": 199,
     "metadata": {},
     "output_type": "execute_result"
    }
   ],
   "source": [
    "#KNN Model\n",
    "from sklearn.neighbors import KNeighborsClassifier\n",
    "\n",
    "knn_model = KNeighborsClassifier(n_neighbors=5)\n",
    "knn_model.fit(X_train_resampled, Y_train_resampled)"
   ]
  },
  {
   "cell_type": "code",
   "execution_count": 200,
   "id": "3aaad323-dd16-4d79-af22-fc071ddc9e02",
   "metadata": {},
   "outputs": [
    {
     "name": "stdout",
     "output_type": "stream",
     "text": [
      "SVC(C=0.1, gamma=0.1, kernel='linear', random_state=42)\n"
     ]
    }
   ],
   "source": [
    "#Tune parameters for each of the models wherever required and finalize a model.\n",
    "from sklearn.model_selection import GridSearchCV\n",
    "\n",
    "# Define the hyperparameters to search\n",
    "param_grid = {\n",
    "    'C': [0.1, 1, 10],\n",
    "    'kernel': ['linear', 'rbf'],\n",
    "    'gamma': [0.1, 1, 10]\n",
    "}\n",
    "\n",
    "# Use GridSearchCV to find the best hyperparameters\n",
    "grid_search = GridSearchCV(svm_model, param_grid, cv=5, n_jobs=-1)\n",
    "grid_search.fit(X_train_resampled, Y_train_resampled)\n",
    "\n",
    "# Get the best hyperparameters\n",
    "best_svm_model = grid_search.best_estimator_\n",
    "\n",
    "\n",
    "print(best_svm_model)"
   ]
  },
  {
   "cell_type": "code",
   "execution_count": 201,
   "id": "eb659d54-cab2-43f9-baaa-052372eec8d4",
   "metadata": {},
   "outputs": [
    {
     "name": "stdout",
     "output_type": "stream",
     "text": [
      "KNeighborsClassifier(metric='manhattan', n_neighbors=7, weights='distance')\n"
     ]
    }
   ],
   "source": [
    "# Using hyperparameters for KNN Model\n",
    "# Define the hyperparameters to search\n",
    "param_grid = {\n",
    "    'n_neighbors': [3, 5, 7, 9],\n",
    "    'weights': ['uniform', 'distance'],\n",
    "    'metric': ['euclidean', 'manhattan']\n",
    "}\n",
    "\n",
    "\n",
    "# Use GridSearchCV to find the best hyperparameters\n",
    "grid_search = GridSearchCV(knn_model, param_grid, cv=5, n_jobs=-1)\n",
    "grid_search.fit(X_train_resampled, Y_train_resampled)\n",
    "\n",
    "# Get the best hyperparameters\n",
    "best_knn_model = grid_search.best_estimator_\n",
    "print(best_knn_model)"
   ]
  },
  {
   "cell_type": "code",
   "execution_count": 202,
   "id": "c667285e-de94-4dab-9e0f-ddb563478805",
   "metadata": {},
   "outputs": [],
   "source": [
    "# Evaluate SVM model\n",
    "Y_pred_svm = best_svm_model.predict(X_test)\n",
    "\n",
    "# Evaluate KNN model\n",
    "Y_pred_knn = best_knn_model.predict(X_test)\n"
   ]
  },
  {
   "cell_type": "code",
   "execution_count": 203,
   "id": "9c645051-1fb6-49e8-88cc-cdcabda5b3f1",
   "metadata": {},
   "outputs": [
    {
     "name": "stdout",
     "output_type": "stream",
     "text": [
      "Evaluation Metrics for SVM Model:\n",
      "Accuracy: 0.88\n",
      "Precision: 0.48\n",
      "Recall: 0.90\n",
      "F1-Score: 0.62\n",
      "Confusion Matrix:\n",
      "[[985 131]\n",
      " [ 14 120]]\n"
     ]
    }
   ],
   "source": [
    "#Print evaluation metrics for final model.\n",
    "from sklearn.metrics import accuracy_score, precision_score, recall_score, f1_score, confusion_matrix\n",
    "\n",
    "# Evaluate the SVM model\n",
    "Y_pred_svm = best_svm_model.predict(X_test)\n",
    "\n",
    "# Calculate metrics for the SVM model\n",
    "accuracy_svm = accuracy_score(Y_test, Y_pred_svm) \n",
    "precision_svm = precision_score(Y_test, Y_pred_svm)\n",
    "recall_svm = recall_score(Y_test, Y_pred_svm)\n",
    "f1_svm = f1_score(Y_test, Y_pred_svm)\n",
    "confusion_svm = confusion_matrix(Y_test, Y_pred_svm)\n",
    "\n",
    "print(\"Evaluation Metrics for SVM Model:\")\n",
    "print(f\"Accuracy: {accuracy_svm:.2f}\")\n",
    "print(f\"Precision: {precision_svm:.2f}\")\n",
    "print(f\"Recall: {recall_svm:.2f}\")\n",
    "print(f\"F1-Score: {f1_svm:.2f}\")\n",
    "print(\"Confusion Matrix:\")\n",
    "print(confusion_svm)"
   ]
  },
  {
   "cell_type": "code",
   "execution_count": 204,
   "id": "19cd60a0-f1c8-429b-806c-04e7f59af92e",
   "metadata": {},
   "outputs": [
    {
     "name": "stdout",
     "output_type": "stream",
     "text": [
      "Evaluation Metrics for KNN Model:\n",
      "Accuracy: 0.83\n",
      "Precision: 0.38\n",
      "Recall: 0.90\n",
      "F1-Score: 0.53\n",
      "Confusion Matrix:\n",
      "[[921 195]\n",
      " [ 14 120]]\n"
     ]
    }
   ],
   "source": [
    "# Evaluate the KNN model\n",
    "Y_pred_knn = best_knn_model.predict(X_test)\n",
    "\n",
    "# Calculate metrics for the KNN model\n",
    "accuracy_knn = accuracy_score(Y_test, Y_pred_knn)\n",
    "precision_knn = precision_score(Y_test, Y_pred_knn)\n",
    "recall_knn = recall_score(Y_test, Y_pred_knn)\n",
    "f1_knn = f1_score(Y_test, Y_pred_knn)\n",
    "confusion_knn = confusion_matrix(Y_test, Y_pred_knn)\n",
    "\n",
    "# Print metrics for both models\n",
    "\n",
    "\n",
    "print(\"Evaluation Metrics for KNN Model:\")\n",
    "print(f\"Accuracy: {accuracy_knn:.2f}\")\n",
    "print(f\"Precision: {precision_knn:.2f}\")\n",
    "print(f\"Recall: {recall_knn:.2f}\")\n",
    "print(f\"F1-Score: {f1_knn:.2f}\")\n",
    "print(\"Confusion Matrix:\")\n",
    "print(confusion_knn)"
   ]
  },
  {
   "cell_type": "code",
   "execution_count": null,
   "id": "cde11675-1edb-4e76-8de0-97e7abbefec2",
   "metadata": {},
   "outputs": [],
   "source": []
  },
  {
   "cell_type": "code",
   "execution_count": null,
   "id": "632deb35-229a-43db-aa48-64e5d1269389",
   "metadata": {},
   "outputs": [],
   "source": []
  },
  {
   "cell_type": "code",
   "execution_count": null,
   "id": "f573f846-48b7-4a4b-8cf9-1a55db0e45c1",
   "metadata": {},
   "outputs": [],
   "source": []
  }
 ],
 "metadata": {
  "kernelspec": {
   "display_name": "Python 3 (ipykernel)",
   "language": "python",
   "name": "python3"
  },
  "language_info": {
   "codemirror_mode": {
    "name": "ipython",
    "version": 3
   },
   "file_extension": ".py",
   "mimetype": "text/x-python",
   "name": "python",
   "nbconvert_exporter": "python",
   "pygments_lexer": "ipython3",
   "version": "3.11.3"
  }
 },
 "nbformat": 4,
 "nbformat_minor": 5
}
