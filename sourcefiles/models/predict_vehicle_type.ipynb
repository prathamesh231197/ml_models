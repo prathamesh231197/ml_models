{
 "cells": [
  {
   "cell_type": "code",
   "execution_count": null,
   "id": "a616aeeb-e141-4f53-af4e-d1436b2a4e0f",
   "metadata": {},
   "outputs": [],
   "source": [
    "#Model to predict the type of car based on its silhoutes dimensional parameters."
   ]
  },
  {
   "cell_type": "markdown",
   "id": "f18786c6-7828-469c-b46a-439fc93ad766",
   "metadata": {},
   "source": [
    "**1. Data Understanding & Cleaning:**"
   ]
  },
  {
   "cell_type": "code",
   "execution_count": 28,
   "id": "85426686-9a99-489c-86ab-de5d8ed392d0",
   "metadata": {},
   "outputs": [
    {
     "data": {
      "text/html": [
       "<div>\n",
       "<style scoped>\n",
       "    .dataframe tbody tr th:only-of-type {\n",
       "        vertical-align: middle;\n",
       "    }\n",
       "\n",
       "    .dataframe tbody tr th {\n",
       "        vertical-align: top;\n",
       "    }\n",
       "\n",
       "    .dataframe thead th {\n",
       "        text-align: right;\n",
       "    }\n",
       "</style>\n",
       "<table border=\"1\" class=\"dataframe\">\n",
       "  <thead>\n",
       "    <tr style=\"text-align: right;\">\n",
       "      <th></th>\n",
       "      <th>compactness</th>\n",
       "      <th>circularity</th>\n",
       "      <th>distance_circularity</th>\n",
       "      <th>radius_ratio</th>\n",
       "      <th>pr.axis_aspect_ratio</th>\n",
       "      <th>max.length_aspect_ratio</th>\n",
       "      <th>scatter_ratio</th>\n",
       "      <th>elongatedness</th>\n",
       "      <th>pr.axis_rectangularity</th>\n",
       "      <th>max.length_rectangularity</th>\n",
       "      <th>scaled_variance</th>\n",
       "      <th>scaled_variance.1</th>\n",
       "      <th>scaled_radius_of_gyration</th>\n",
       "      <th>scaled_radius_of_gyration.1</th>\n",
       "      <th>skewness_about</th>\n",
       "      <th>skewness_about.1</th>\n",
       "      <th>skewness_about.2</th>\n",
       "      <th>hollows_ratio</th>\n",
       "      <th>class</th>\n",
       "    </tr>\n",
       "  </thead>\n",
       "  <tbody>\n",
       "    <tr>\n",
       "      <th>0</th>\n",
       "      <td>95</td>\n",
       "      <td>48.0</td>\n",
       "      <td>83.0</td>\n",
       "      <td>178.0</td>\n",
       "      <td>72.0</td>\n",
       "      <td>10</td>\n",
       "      <td>162.0</td>\n",
       "      <td>42.0</td>\n",
       "      <td>20.0</td>\n",
       "      <td>159</td>\n",
       "      <td>176.0</td>\n",
       "      <td>379.0</td>\n",
       "      <td>184.0</td>\n",
       "      <td>70.0</td>\n",
       "      <td>6.0</td>\n",
       "      <td>16.0</td>\n",
       "      <td>187.0</td>\n",
       "      <td>197</td>\n",
       "      <td>van</td>\n",
       "    </tr>\n",
       "    <tr>\n",
       "      <th>1</th>\n",
       "      <td>91</td>\n",
       "      <td>41.0</td>\n",
       "      <td>84.0</td>\n",
       "      <td>141.0</td>\n",
       "      <td>57.0</td>\n",
       "      <td>9</td>\n",
       "      <td>149.0</td>\n",
       "      <td>45.0</td>\n",
       "      <td>19.0</td>\n",
       "      <td>143</td>\n",
       "      <td>170.0</td>\n",
       "      <td>330.0</td>\n",
       "      <td>158.0</td>\n",
       "      <td>72.0</td>\n",
       "      <td>9.0</td>\n",
       "      <td>14.0</td>\n",
       "      <td>189.0</td>\n",
       "      <td>199</td>\n",
       "      <td>van</td>\n",
       "    </tr>\n",
       "    <tr>\n",
       "      <th>2</th>\n",
       "      <td>104</td>\n",
       "      <td>50.0</td>\n",
       "      <td>106.0</td>\n",
       "      <td>209.0</td>\n",
       "      <td>66.0</td>\n",
       "      <td>10</td>\n",
       "      <td>207.0</td>\n",
       "      <td>32.0</td>\n",
       "      <td>23.0</td>\n",
       "      <td>158</td>\n",
       "      <td>223.0</td>\n",
       "      <td>635.0</td>\n",
       "      <td>220.0</td>\n",
       "      <td>73.0</td>\n",
       "      <td>14.0</td>\n",
       "      <td>9.0</td>\n",
       "      <td>188.0</td>\n",
       "      <td>196</td>\n",
       "      <td>car</td>\n",
       "    </tr>\n",
       "    <tr>\n",
       "      <th>3</th>\n",
       "      <td>93</td>\n",
       "      <td>41.0</td>\n",
       "      <td>82.0</td>\n",
       "      <td>159.0</td>\n",
       "      <td>63.0</td>\n",
       "      <td>9</td>\n",
       "      <td>144.0</td>\n",
       "      <td>46.0</td>\n",
       "      <td>19.0</td>\n",
       "      <td>143</td>\n",
       "      <td>160.0</td>\n",
       "      <td>309.0</td>\n",
       "      <td>127.0</td>\n",
       "      <td>63.0</td>\n",
       "      <td>6.0</td>\n",
       "      <td>10.0</td>\n",
       "      <td>199.0</td>\n",
       "      <td>207</td>\n",
       "      <td>van</td>\n",
       "    </tr>\n",
       "    <tr>\n",
       "      <th>4</th>\n",
       "      <td>85</td>\n",
       "      <td>44.0</td>\n",
       "      <td>70.0</td>\n",
       "      <td>205.0</td>\n",
       "      <td>103.0</td>\n",
       "      <td>52</td>\n",
       "      <td>149.0</td>\n",
       "      <td>45.0</td>\n",
       "      <td>19.0</td>\n",
       "      <td>144</td>\n",
       "      <td>241.0</td>\n",
       "      <td>325.0</td>\n",
       "      <td>188.0</td>\n",
       "      <td>127.0</td>\n",
       "      <td>9.0</td>\n",
       "      <td>11.0</td>\n",
       "      <td>180.0</td>\n",
       "      <td>183</td>\n",
       "      <td>bus</td>\n",
       "    </tr>\n",
       "  </tbody>\n",
       "</table>\n",
       "</div>"
      ],
      "text/plain": [
       "   compactness  circularity  distance_circularity  radius_ratio  \\\n",
       "0           95         48.0                  83.0         178.0   \n",
       "1           91         41.0                  84.0         141.0   \n",
       "2          104         50.0                 106.0         209.0   \n",
       "3           93         41.0                  82.0         159.0   \n",
       "4           85         44.0                  70.0         205.0   \n",
       "\n",
       "   pr.axis_aspect_ratio  max.length_aspect_ratio  scatter_ratio  \\\n",
       "0                  72.0                       10          162.0   \n",
       "1                  57.0                        9          149.0   \n",
       "2                  66.0                       10          207.0   \n",
       "3                  63.0                        9          144.0   \n",
       "4                 103.0                       52          149.0   \n",
       "\n",
       "   elongatedness  pr.axis_rectangularity  max.length_rectangularity  \\\n",
       "0           42.0                    20.0                        159   \n",
       "1           45.0                    19.0                        143   \n",
       "2           32.0                    23.0                        158   \n",
       "3           46.0                    19.0                        143   \n",
       "4           45.0                    19.0                        144   \n",
       "\n",
       "   scaled_variance  scaled_variance.1  scaled_radius_of_gyration  \\\n",
       "0            176.0              379.0                      184.0   \n",
       "1            170.0              330.0                      158.0   \n",
       "2            223.0              635.0                      220.0   \n",
       "3            160.0              309.0                      127.0   \n",
       "4            241.0              325.0                      188.0   \n",
       "\n",
       "   scaled_radius_of_gyration.1  skewness_about  skewness_about.1  \\\n",
       "0                         70.0             6.0              16.0   \n",
       "1                         72.0             9.0              14.0   \n",
       "2                         73.0            14.0               9.0   \n",
       "3                         63.0             6.0              10.0   \n",
       "4                        127.0             9.0              11.0   \n",
       "\n",
       "   skewness_about.2  hollows_ratio class  \n",
       "0             187.0            197   van  \n",
       "1             189.0            199   van  \n",
       "2             188.0            196   car  \n",
       "3             199.0            207   van  \n",
       "4             180.0            183   bus  "
      ]
     },
     "execution_count": 28,
     "metadata": {},
     "output_type": "execute_result"
    }
   ],
   "source": [
    "#Read ‘vehicle.csv’ and save as DataFrame\n",
    "df1 = pd.read_csv(\"vehicle.csv\")\n",
    "df1.head()"
   ]
  },
  {
   "cell_type": "code",
   "execution_count": 29,
   "id": "1bb69854-bf48-45ab-8616-d393485cc019",
   "metadata": {},
   "outputs": [
    {
     "data": {
      "text/plain": [
       "(846, 19)"
      ]
     },
     "execution_count": 29,
     "metadata": {},
     "output_type": "execute_result"
    }
   ],
   "source": [
    "df1.shape"
   ]
  },
  {
   "cell_type": "code",
   "execution_count": 30,
   "id": "59c06cd9-479e-4259-81a5-916a4640ac9a",
   "metadata": {},
   "outputs": [
    {
     "name": "stdout",
     "output_type": "stream",
     "text": [
      "<class 'pandas.core.frame.DataFrame'>\n",
      "RangeIndex: 846 entries, 0 to 845\n",
      "Data columns (total 19 columns):\n",
      " #   Column                       Non-Null Count  Dtype  \n",
      "---  ------                       --------------  -----  \n",
      " 0   compactness                  846 non-null    int64  \n",
      " 1   circularity                  841 non-null    float64\n",
      " 2   distance_circularity         842 non-null    float64\n",
      " 3   radius_ratio                 840 non-null    float64\n",
      " 4   pr.axis_aspect_ratio         844 non-null    float64\n",
      " 5   max.length_aspect_ratio      846 non-null    int64  \n",
      " 6   scatter_ratio                845 non-null    float64\n",
      " 7   elongatedness                845 non-null    float64\n",
      " 8   pr.axis_rectangularity       843 non-null    float64\n",
      " 9   max.length_rectangularity    846 non-null    int64  \n",
      " 10  scaled_variance              843 non-null    float64\n",
      " 11  scaled_variance.1            844 non-null    float64\n",
      " 12  scaled_radius_of_gyration    844 non-null    float64\n",
      " 13  scaled_radius_of_gyration.1  842 non-null    float64\n",
      " 14  skewness_about               840 non-null    float64\n",
      " 15  skewness_about.1             845 non-null    float64\n",
      " 16  skewness_about.2             845 non-null    float64\n",
      " 17  hollows_ratio                846 non-null    int64  \n",
      " 18  class                        846 non-null    object \n",
      "dtypes: float64(14), int64(4), object(1)\n",
      "memory usage: 125.7+ KB\n"
     ]
    }
   ],
   "source": [
    "df1.info()"
   ]
  },
  {
   "cell_type": "code",
   "execution_count": 31,
   "id": "de00d79c-7c17-45b5-8523-d94aa58214f4",
   "metadata": {},
   "outputs": [
    {
     "name": "stdout",
     "output_type": "stream",
     "text": [
      "The percentage of missing values for the dataframe is as follows,\n",
      "compactness                    0.00\n",
      "circularity                    0.59\n",
      "distance_circularity           0.47\n",
      "radius_ratio                   0.71\n",
      "pr.axis_aspect_ratio           0.24\n",
      "max.length_aspect_ratio        0.00\n",
      "scatter_ratio                  0.12\n",
      "elongatedness                  0.12\n",
      "pr.axis_rectangularity         0.35\n",
      "max.length_rectangularity      0.00\n",
      "scaled_variance                0.35\n",
      "scaled_variance.1              0.24\n",
      "scaled_radius_of_gyration      0.24\n",
      "scaled_radius_of_gyration.1    0.47\n",
      "skewness_about                 0.71\n",
      "skewness_about.1               0.12\n",
      "skewness_about.2               0.12\n",
      "hollows_ratio                  0.00\n",
      "class                          0.00\n",
      "dtype: float64\n"
     ]
    }
   ],
   "source": [
    "#Check percentage of missing values and impute with correct approach\n",
    "#using the function to check missing values created in part A\n",
    "print(\"The percentage of missing values for the dataframe is as follows,\")\n",
    "print(missing_values_as_perc(df1))"
   ]
  },
  {
   "cell_type": "code",
   "execution_count": 32,
   "id": "f65a65dc-2825-445b-b725-831b2d881d96",
   "metadata": {},
   "outputs": [],
   "source": [
    "#imputing the missing values\n",
    "#As there are few missing values we will drop the missing value rows\n",
    "df2=df1.copy()\n",
    "df2.dropna(inplace=True)"
   ]
  },
  {
   "cell_type": "code",
   "execution_count": 33,
   "id": "0eee9da7-8c1c-4fb8-9bd9-e189a73cae3a",
   "metadata": {},
   "outputs": [
    {
     "name": "stdout",
     "output_type": "stream",
     "text": [
      "compactness                    0.0\n",
      "circularity                    0.0\n",
      "distance_circularity           0.0\n",
      "radius_ratio                   0.0\n",
      "pr.axis_aspect_ratio           0.0\n",
      "max.length_aspect_ratio        0.0\n",
      "scatter_ratio                  0.0\n",
      "elongatedness                  0.0\n",
      "pr.axis_rectangularity         0.0\n",
      "max.length_rectangularity      0.0\n",
      "scaled_variance                0.0\n",
      "scaled_variance.1              0.0\n",
      "scaled_radius_of_gyration      0.0\n",
      "scaled_radius_of_gyration.1    0.0\n",
      "skewness_about                 0.0\n",
      "skewness_about.1               0.0\n",
      "skewness_about.2               0.0\n",
      "hollows_ratio                  0.0\n",
      "class                          0.0\n",
      "dtype: float64\n"
     ]
    }
   ],
   "source": [
    "print(missing_values_as_perc(df2))"
   ]
  },
  {
   "cell_type": "code",
   "execution_count": 34,
   "id": "d58e1e87-9087-4941-b7fe-560262e2f736",
   "metadata": {},
   "outputs": [
    {
     "data": {
      "image/png": "[encoded data removed]",
      "text/plain": [
       "<Figure size 700x700 with 1 Axes>"
      ]
     },
     "metadata": {},
     "output_type": "display_data"
    },
    {
     "name": "stdout",
     "output_type": "stream",
     "text": [
      "Percentage of Values for 'class' Variable:\n",
      "class\n",
      "car    50.799508\n",
      "bus    25.215252\n",
      "van    23.985240\n",
      "Name: proportion, dtype: float64\n"
     ]
    }
   ],
   "source": [
    "#Visualize a Pie-chart and print percentage of values for variable ‘class’\n",
    "#calculating percentage distribution of class feature\n",
    "class_perc = df2[\"class\"].value_counts(normalize=True)*100\n",
    "#plotting pie chart\n",
    "plt.figure(figsize=(7,7))\n",
    "plt.pie(class_perc,labels=class_perc.index,autopct='%1.1f%%',startangle=90)\n",
    "plt.title(\"Pie Chart Distribution of Class feature\")\n",
    "plt.show()\n",
    "\n",
    "#percentage values of class feature\n",
    "print(\"Percentage of Values for 'class' Variable:\")\n",
    "print(class_perc)"
   ]
  },
  {
   "cell_type": "code",
   "execution_count": 35,
   "id": "1c6660c9-5002-43f0-9cf1-c0b050a2f4bc",
   "metadata": {},
   "outputs": [
    {
     "name": "stdout",
     "output_type": "stream",
     "text": [
      "There is 0 duplicated data in the dataframe.\n"
     ]
    }
   ],
   "source": [
    "#Check for duplicate rows in the data and impute with correct approach.\n",
    "duplicates=df2.duplicated().sum()\n",
    "print(f\"There is {duplicates} duplicated data in the dataframe.\")"
   ]
  },
  {
   "cell_type": "markdown",
   "id": "30642103-78d5-472d-a444-0044f11ca852",
   "metadata": {},
   "source": [
    "**2. Data Preparation**"
   ]
  },
  {
   "cell_type": "code",
   "execution_count": 36,
   "id": "0ab18eb9-920d-48c3-b5bb-da347ac396b2",
   "metadata": {},
   "outputs": [],
   "source": [
    "#Split data into X and Y. [Train and Test optional]\n",
    "from sklearn.model_selection import train_test_split\n",
    "X=df2.drop(\"class\",axis=1)\n",
    "y=df2[\"class\"]"
   ]
  },
  {
   "cell_type": "code",
   "execution_count": 37,
   "id": "8d8f219f-46d4-4b03-bdf1-6479a4863cd0",
   "metadata": {},
   "outputs": [],
   "source": [
    "#Standardize the Data.\n",
    "scaler=StandardScaler()\n",
    "X_scaled=scaler.fit_transform(X)\n",
    "X_train,X_test,y_train,y_test=train_test_split(X_scaled,y,test_size=0.2,random_state=42)"
   ]
  },
  {
   "cell_type": "markdown",
   "id": "2b61669c-985d-4495-845a-c382eb11cacb",
   "metadata": {},
   "source": [
    "**3. Model Building:**"
   ]
  },
  {
   "cell_type": "code",
   "execution_count": 38,
   "id": "6784c068-8df6-4626-9b0c-54637f706193",
   "metadata": {},
   "outputs": [],
   "source": [
    "#Train a base Classification model using SVM\n",
    "from sklearn.svm import SVC\n",
    "from sklearn.metrics import accuracy_score, classification_report\n",
    "svm_model = SVC(kernel='linear')\n",
    "svm_model.fit(X_train,y_train)\n",
    "y_train_predicted=svm_model.predict(X_train)\n",
    "y_test_predicted = svm_model.predict(X_test)"
   ]
  },
  {
   "cell_type": "code",
   "execution_count": 39,
   "id": "ff144519-48d8-4a2e-875d-a5e25be5df2b",
   "metadata": {},
   "outputs": [
    {
     "name": "stdout",
     "output_type": "stream",
     "text": [
      "Training accuracy score:96.31%\n",
      "Testing accuracy score:96.32%\n",
      "Classification Metrics for Training Data:\n",
      "              precision    recall  f1-score   support\n",
      "\n",
      "         bus       0.94      0.97      0.96       169\n",
      "         car       0.97      0.96      0.96       316\n",
      "         van       0.96      0.97      0.97       165\n",
      "\n",
      "    accuracy                           0.96       650\n",
      "   macro avg       0.96      0.97      0.96       650\n",
      "weighted avg       0.96      0.96      0.96       650\n",
      "\n",
      "Classification Metrics for Training Data:\n",
      "              precision    recall  f1-score   support\n",
      "\n",
      "         bus       0.94      0.97      0.96       169\n",
      "         car       0.97      0.96      0.96       316\n",
      "         van       0.96      0.97      0.97       165\n",
      "\n",
      "    accuracy                           0.96       650\n",
      "   macro avg       0.96      0.97      0.96       650\n",
      "weighted avg       0.96      0.96      0.96       650\n",
      "\n"
     ]
    }
   ],
   "source": [
    "#Print Classification metrics for train data.\n",
    "train_accuracy = accuracy_score(y_train,y_train_predicted)\n",
    "test_accuracy = accuracy_score(y_test,y_test_predicted)\n",
    "print(f\"Training accuracy score:{round(train_accuracy*100,2)}%\")\n",
    "print(f\"Testing accuracy score:{round(test_accuracy*100,2)}%\")\n",
    "print(\"Classification Metrics for Training Data:\")\n",
    "print(classification_report(y_train, y_train_predicted))\n",
    "print(\"Classification Metrics for Training Data:\")\n",
    "print(classification_report(y_train, y_train_predicted))\n"
   ]
  },
  {
   "cell_type": "code",
   "execution_count": 40,
   "id": "a4723936-ebbe-493a-8266-fe9000dfa0d4",
   "metadata": {},
   "outputs": [],
   "source": [
    "#Apply PCA on the data with 10 components\n",
    "from sklearn.decomposition import PCA\n",
    "n_components=10\n",
    "pca = PCA(n_components=n_components)\n",
    "X_pca = pca.fit_transform(X_scaled)"
   ]
  },
  {
   "cell_type": "code",
   "execution_count": 41,
   "id": "618cc203-40d6-45fa-a159-4a945503dfb6",
   "metadata": {},
   "outputs": [
    {
     "data": {
      "image/png": "[encoded data removed]",
      "text/plain": [
       "<Figure size 800x800 with 1 Axes>"
      ]
     },
     "metadata": {},
     "output_type": "display_data"
    }
   ],
   "source": [
    "#Visualize Cumulative Variance Explained with Number of Components.\n",
    "cumulative_variance=pca.explained_variance_ratio_.cumsum()\n",
    "\n",
    "#Plotting the figure\n",
    "plt.figure(figsize=(8,8))\n",
    "plt.plot(range(1, n_components + 1), cumulative_variance, marker='o', linestyle='-', color='b')\n",
    "plt.title('Cumulative Variance Explained with Number of Components')\n",
    "plt.xlabel('Number of Components')\n",
    "plt.ylabel('Cumulative Variance Explained')\n",
    "plt.grid(True)\n",
    "plt.show()\n"
   ]
  },
  {
   "cell_type": "code",
   "execution_count": 42,
   "id": "99d97a13-3b35-45d5-b4b1-e3bd335fb98a",
   "metadata": {},
   "outputs": [
    {
     "data": {
      "image/png": "[encoded data removed]",
      "text/plain": [
       "<Figure size 800x800 with 1 Axes>"
      ]
     },
     "metadata": {},
     "output_type": "display_data"
    }
   ],
   "source": [
    "#Draw a horizontal line on the above plot to highlight the threshold of 90%.\n",
    "#Plotting the figure with a horizontal line at 90%\n",
    "plt.figure(figsize=(8,8))\n",
    "plt.plot(range(1, n_components + 1), cumulative_variance, marker='o', linestyle='-', color='b')\n",
    "plt.axhline(y=0.9,color='r',linestyle='--',label='90% Variance Threshold')\n",
    "plt.title('Cumulative Variance Explained with Number of Components')\n",
    "plt.xlabel('Number of Components')\n",
    "plt.ylabel('Cumulative Variance Explained')\n",
    "plt.legend()\n",
    "plt.grid(True)\n",
    "plt.show()"
   ]
  },
  {
   "cell_type": "code",
   "execution_count": 43,
   "id": "d6ab263e-d04b-4437-b275-a9911d7a1b6b",
   "metadata": {},
   "outputs": [],
   "source": [
    "#F. Apply PCA on the data. This time Select Minimum Components with 90% or above variance explained.\n",
    "#Selecting n_components=8 as it explains well above 90% variance.\n",
    "pca2 = PCA(n_components=8)\n",
    "X_pca = pca2.fit_transform(X_scaled)"
   ]
  },
  {
   "cell_type": "code",
   "execution_count": 44,
   "id": "5f988fc1-39f0-4a9a-8e21-7f2321829e86",
   "metadata": {},
   "outputs": [
    {
     "data": {
      "text/html": [
       "<style>#sk-container-id-2 {color: black;background-color: white;}#sk-container-id-2 pre{padding: 0;}#sk-container-id-2 div.sk-toggleable {background-color: white;}#sk-container-id-2 label.sk-toggleable__label {cursor: pointer;display: block;width: 100%;margin-bottom: 0;padding: 0.3em;box-sizing: border-box;text-align: center;}#sk-container-id-2 label.sk-toggleable__label-arrow:before {content: \"▸\";float: left;margin-right: 0.25em;color: #696969;}#sk-container-id-2 label.sk-toggleable__label-arrow:hover:before {color: black;}#sk-container-id-2 div.sk-estimator:hover label.sk-toggleable__label-arrow:before {color: black;}#sk-container-id-2 div.sk-toggleable__content {max-height: 0;max-width: 0;overflow: hidden;text-align: left;background-color: #f0f8ff;}#sk-container-id-2 div.sk-toggleable__content pre {margin: 0.2em;color: black;border-radius: 0.25em;background-color: #f0f8ff;}#sk-container-id-2 input.sk-toggleable__control:checked~div.sk-toggleable__content {max-height: 200px;max-width: 100%;overflow: auto;}#sk-container-id-2 input.sk-toggleable__control:checked~label.sk-toggleable__label-arrow:before {content: \"▾\";}#sk-container-id-2 div.sk-estimator input.sk-toggleable__control:checked~label.sk-toggleable__label {background-color: #d4ebff;}#sk-container-id-2 div.sk-label input.sk-toggleable__control:checked~label.sk-toggleable__label {background-color: #d4ebff;}#sk-container-id-2 input.sk-hidden--visually {border: 0;clip: rect(1px 1px 1px 1px);clip: rect(1px, 1px, 1px, 1px);height: 1px;margin: -1px;overflow: hidden;padding: 0;position: absolute;width: 1px;}#sk-container-id-2 div.sk-estimator {font-family: monospace;background-color: #f0f8ff;border: 1px dotted black;border-radius: 0.25em;box-sizing: border-box;margin-bottom: 0.5em;}#sk-container-id-2 div.sk-estimator:hover {background-color: #d4ebff;}#sk-container-id-2 div.sk-parallel-item::after {content: \"\";width: 100%;border-bottom: 1px solid gray;flex-grow: 1;}#sk-container-id-2 div.sk-label:hover label.sk-toggleable__label {background-color: #d4ebff;}#sk-container-id-2 div.sk-serial::before {content: \"\";position: absolute;border-left: 1px solid gray;box-sizing: border-box;top: 0;bottom: 0;left: 50%;z-index: 0;}#sk-container-id-2 div.sk-serial {display: flex;flex-direction: column;align-items: center;background-color: white;padding-right: 0.2em;padding-left: 0.2em;position: relative;}#sk-container-id-2 div.sk-item {position: relative;z-index: 1;}#sk-container-id-2 div.sk-parallel {display: flex;align-items: stretch;justify-content: center;background-color: white;position: relative;}#sk-container-id-2 div.sk-item::before, #sk-container-id-2 div.sk-parallel-item::before {content: \"\";position: absolute;border-left: 1px solid gray;box-sizing: border-box;top: 0;bottom: 0;left: 50%;z-index: -1;}#sk-container-id-2 div.sk-parallel-item {display: flex;flex-direction: column;z-index: 1;position: relative;background-color: white;}#sk-container-id-2 div.sk-parallel-item:first-child::after {align-self: flex-end;width: 50%;}#sk-container-id-2 div.sk-parallel-item:last-child::after {align-self: flex-start;width: 50%;}#sk-container-id-2 div.sk-parallel-item:only-child::after {width: 0;}#sk-container-id-2 div.sk-dashed-wrapped {border: 1px dashed gray;margin: 0 0.4em 0.5em 0.4em;box-sizing: border-box;padding-bottom: 0.4em;background-color: white;}#sk-container-id-2 div.sk-label label {font-family: monospace;font-weight: bold;display: inline-block;line-height: 1.2em;}#sk-container-id-2 div.sk-label-container {text-align: center;}#sk-container-id-2 div.sk-container {/* jupyter's `normalize.less` sets `[hidden] { display: none; }` but bootstrap.min.css set `[hidden] { display: none !important; }` so we also need the `!important` here to be able to override the default hidden behavior on the sphinx rendered scikit-learn.org. See: https://github.com/scikit-learn/scikit-learn/issues/21755 */display: inline-block !important;position: relative;}#sk-container-id-2 div.sk-text-repr-fallback {display: none;}</style><div id=\"sk-container-id-2\" class=\"sk-top-container\"><div class=\"sk-text-repr-fallback\"><pre>SVC(kernel=&#x27;linear&#x27;)</pre><b>In a Jupyter environment, please rerun this cell to show the HTML representation or trust the notebook. <br />On GitHub, the HTML representation is unable to render, please try loading this page with nbviewer.org.</b></div><div class=\"sk-container\" hidden><div class=\"sk-item\"><div class=\"sk-estimator sk-toggleable\"><input class=\"sk-toggleable__control sk-hidden--visually\" id=\"sk-estimator-id-2\" type=\"checkbox\" checked><label for=\"sk-estimator-id-2\" class=\"sk-toggleable__label sk-toggleable__label-arrow\">SVC</label><div class=\"sk-toggleable__content\"><pre>SVC(kernel=&#x27;linear&#x27;)</pre></div></div></div></div></div>"
      ],
      "text/plain": [
       "SVC(kernel='linear')"
      ]
     },
     "execution_count": 44,
     "metadata": {},
     "output_type": "execute_result"
    }
   ],
   "source": [
    "#Train SVM model on components selected from above step.\n",
    "# Splitting data into training and testing sets\n",
    "X_train, X_test, y_train, y_test = train_test_split(X_pca, y, test_size=0.2, random_state=42)\n",
    "\n",
    "#Initializing SVM model\n",
    "svm_model2 = SVC(kernel='linear')\n",
    "svm_model2.fit(X_train, y_train)"
   ]
  },
  {
   "cell_type": "code",
   "execution_count": 45,
   "id": "3c549cce-05b2-45a6-be90-52aea382010e",
   "metadata": {},
   "outputs": [
    {
     "name": "stdout",
     "output_type": "stream",
     "text": [
      "Training Accuracy:87.69%\n",
      "Testing Accuracy:88.34%\n",
      "Classification Metrics for Training Data:\n",
      "              precision    recall  f1-score   support\n",
      "\n",
      "         bus       0.80      0.84      0.82       169\n",
      "         car       0.92      0.87      0.90       316\n",
      "         van       0.88      0.92      0.90       165\n",
      "\n",
      "    accuracy                           0.88       650\n",
      "   macro avg       0.87      0.88      0.87       650\n",
      "weighted avg       0.88      0.88      0.88       650\n",
      "\n",
      "Classification Metrics for Testing Data:\n",
      "              precision    recall  f1-score   support\n",
      "\n",
      "         bus       0.74      0.94      0.83        36\n",
      "         car       0.99      0.84      0.91        97\n",
      "         van       0.83      0.97      0.89        30\n",
      "\n",
      "    accuracy                           0.88       163\n",
      "   macro avg       0.85      0.92      0.88       163\n",
      "weighted avg       0.90      0.88      0.89       163\n",
      "\n"
     ]
    }
   ],
   "source": [
    "#Print Classification metrics for train data of above model and share insights.\n",
    "y_train_predicted = svm_model2.predict(X_train)\n",
    "y_test_predicted  = svm_model2.predict(X_test)\n",
    "#Accuracy of model on train data\n",
    "train_accuracy = accuracy_score(y_train,y_train_predicted)\n",
    "test_accuracy = accuracy_score(y_test,y_test_predicted)\n",
    "\n",
    "print(f\"Training Accuracy:{round(train_accuracy*100,2)}%\")\n",
    "print(f\"Testing Accuracy:{round(test_accuracy*100,2)}%\")\n",
    "\n",
    "#Classification report\n",
    "print(\"Classification Metrics for Training Data:\")\n",
    "print(classification_report(y_train, y_train_predicted))\n",
    "\n",
    "\n",
    "print(\"Classification Metrics for Testing Data:\")\n",
    "print(classification_report(y_test, y_test_predicted))"
   ]
  },
  {
   "cell_type": "markdown",
   "id": "164fd3fe-f7d2-4017-845e-2ed80fa3e36c",
   "metadata": {},
   "source": [
    "**Insights**  \n",
    "*1) Training Accuracy has dropped considerably from 96% to 88%.*  \n",
    "*2) Recall is having similar effects after applying PCA on data.*  \n",
    "*3) The Train and Test accuracy of base model is good compared to PCA applied model.*"
   ]
  },
  {
   "cell_type": "markdown",
   "id": "2dc77de4-4510-4ae3-b433-e0055de8fc57",
   "metadata": {},
   "source": [
    "**4. Performance Improvement**"
   ]
  },
  {
   "cell_type": "code",
   "execution_count": 46,
   "id": "a85233bc-1036-4bf0-83b2-155903c28822",
   "metadata": {},
   "outputs": [
    {
     "data": {
      "text/html": [
       "<style>#sk-container-id-3 {color: black;background-color: white;}#sk-container-id-3 pre{padding: 0;}#sk-container-id-3 div.sk-toggleable {background-color: white;}#sk-container-id-3 label.sk-toggleable__label {cursor: pointer;display: block;width: 100%;margin-bottom: 0;padding: 0.3em;box-sizing: border-box;text-align: center;}#sk-container-id-3 label.sk-toggleable__label-arrow:before {content: \"▸\";float: left;margin-right: 0.25em;color: #696969;}#sk-container-id-3 label.sk-toggleable__label-arrow:hover:before {color: black;}#sk-container-id-3 div.sk-estimator:hover label.sk-toggleable__label-arrow:before {color: black;}#sk-container-id-3 div.sk-toggleable__content {max-height: 0;max-width: 0;overflow: hidden;text-align: left;background-color: #f0f8ff;}#sk-container-id-3 div.sk-toggleable__content pre {margin: 0.2em;color: black;border-radius: 0.25em;background-color: #f0f8ff;}#sk-container-id-3 input.sk-toggleable__control:checked~div.sk-toggleable__content {max-height: 200px;max-width: 100%;overflow: auto;}#sk-container-id-3 input.sk-toggleable__control:checked~label.sk-toggleable__label-arrow:before {content: \"▾\";}#sk-container-id-3 div.sk-estimator input.sk-toggleable__control:checked~label.sk-toggleable__label {background-color: #d4ebff;}#sk-container-id-3 div.sk-label input.sk-toggleable__control:checked~label.sk-toggleable__label {background-color: #d4ebff;}#sk-container-id-3 input.sk-hidden--visually {border: 0;clip: rect(1px 1px 1px 1px);clip: rect(1px, 1px, 1px, 1px);height: 1px;margin: -1px;overflow: hidden;padding: 0;position: absolute;width: 1px;}#sk-container-id-3 div.sk-estimator {font-family: monospace;background-color: #f0f8ff;border: 1px dotted black;border-radius: 0.25em;box-sizing: border-box;margin-bottom: 0.5em;}#sk-container-id-3 div.sk-estimator:hover {background-color: #d4ebff;}#sk-container-id-3 div.sk-parallel-item::after {content: \"\";width: 100%;border-bottom: 1px solid gray;flex-grow: 1;}#sk-container-id-3 div.sk-label:hover label.sk-toggleable__label {background-color: #d4ebff;}#sk-container-id-3 div.sk-serial::before {content: \"\";position: absolute;border-left: 1px solid gray;box-sizing: border-box;top: 0;bottom: 0;left: 50%;z-index: 0;}#sk-container-id-3 div.sk-serial {display: flex;flex-direction: column;align-items: center;background-color: white;padding-right: 0.2em;padding-left: 0.2em;position: relative;}#sk-container-id-3 div.sk-item {position: relative;z-index: 1;}#sk-container-id-3 div.sk-parallel {display: flex;align-items: stretch;justify-content: center;background-color: white;position: relative;}#sk-container-id-3 div.sk-item::before, #sk-container-id-3 div.sk-parallel-item::before {content: \"\";position: absolute;border-left: 1px solid gray;box-sizing: border-box;top: 0;bottom: 0;left: 50%;z-index: -1;}#sk-container-id-3 div.sk-parallel-item {display: flex;flex-direction: column;z-index: 1;position: relative;background-color: white;}#sk-container-id-3 div.sk-parallel-item:first-child::after {align-self: flex-end;width: 50%;}#sk-container-id-3 div.sk-parallel-item:last-child::after {align-self: flex-start;width: 50%;}#sk-container-id-3 div.sk-parallel-item:only-child::after {width: 0;}#sk-container-id-3 div.sk-dashed-wrapped {border: 1px dashed gray;margin: 0 0.4em 0.5em 0.4em;box-sizing: border-box;padding-bottom: 0.4em;background-color: white;}#sk-container-id-3 div.sk-label label {font-family: monospace;font-weight: bold;display: inline-block;line-height: 1.2em;}#sk-container-id-3 div.sk-label-container {text-align: center;}#sk-container-id-3 div.sk-container {/* jupyter's `normalize.less` sets `[hidden] { display: none; }` but bootstrap.min.css set `[hidden] { display: none !important; }` so we also need the `!important` here to be able to override the default hidden behavior on the sphinx rendered scikit-learn.org. See: https://github.com/scikit-learn/scikit-learn/issues/21755 */display: inline-block !important;position: relative;}#sk-container-id-3 div.sk-text-repr-fallback {display: none;}</style><div id=\"sk-container-id-3\" class=\"sk-top-container\"><div class=\"sk-text-repr-fallback\"><pre>SVC(C=100, gamma=0.01)</pre><b>In a Jupyter environment, please rerun this cell to show the HTML representation or trust the notebook. <br />On GitHub, the HTML representation is unable to render, please try loading this page with nbviewer.org.</b></div><div class=\"sk-container\" hidden><div class=\"sk-item\"><div class=\"sk-estimator sk-toggleable\"><input class=\"sk-toggleable__control sk-hidden--visually\" id=\"sk-estimator-id-3\" type=\"checkbox\" checked><label for=\"sk-estimator-id-3\" class=\"sk-toggleable__label sk-toggleable__label-arrow\">SVC</label><div class=\"sk-toggleable__content\"><pre>SVC(C=100, gamma=0.01)</pre></div></div></div></div></div>"
      ],
      "text/plain": [
       "SVC(C=100, gamma=0.01)"
      ]
     },
     "execution_count": 46,
     "metadata": {},
     "output_type": "execute_result"
    }
   ],
   "source": [
    "#Train another SVM on the components out of PCA. Tune the parameters to improve performance.\n",
    "from sklearn.model_selection import GridSearchCV\n",
    "#parameter grid for grid search\n",
    "param_grid = {\n",
    "    'C': [0.1, 1, 10, 100],\n",
    "    'gamma': [0.01, 0.1, 1, 'scale', 'auto'],\n",
    "    'kernel': ['linear', 'rbf', 'poly'],\n",
    "}\n",
    "#initializing  SVM model\n",
    "svm_model3 = SVC()\n",
    "#initializing grid_search\n",
    "grid_search = GridSearchCV(svm_model3, param_grid, cv=3)\n",
    "grid_search.fit(X_train, y_train)\n",
    "best_params=grid_search.best_params_\n",
    "best_svm_model = SVC(**best_params)\n",
    "best_svm_model.fit(X_train, y_train)"
   ]
  },
  {
   "cell_type": "code",
   "execution_count": 47,
   "id": "19c0a9bc-6940-4920-adaa-284fac16337f",
   "metadata": {},
   "outputs": [
    {
     "name": "stdout",
     "output_type": "stream",
     "text": [
      "Best parameters: {'C': 100, 'gamma': 0.01, 'kernel': 'rbf'}\n"
     ]
    }
   ],
   "source": [
    "#Share best Parameters observed from above step.\n",
    "#Best params\n",
    "print(\"Best parameters:\", best_params)\n",
    "\n"
   ]
  },
  {
   "cell_type": "code",
   "execution_count": 48,
   "id": "9363adca-4af3-46b5-8070-ddba51ecfb9f",
   "metadata": {},
   "outputs": [
    {
     "name": "stdout",
     "output_type": "stream",
     "text": [
      "Training Accuracy of the tuned SVM model:97.23%\n",
      "Testing Accuracy of the tuned SVM model:97.55%\n",
      "Classification Metrics for Training Data:\n",
      "              precision    recall  f1-score   support\n",
      "\n",
      "         bus       0.98      0.98      0.98       169\n",
      "         car       0.99      0.97      0.98       316\n",
      "         van       0.94      0.97      0.96       165\n",
      "\n",
      "    accuracy                           0.97       650\n",
      "   macro avg       0.97      0.97      0.97       650\n",
      "weighted avg       0.97      0.97      0.97       650\n",
      "\n",
      "Classification Metrics for Testing Data:\n",
      "              precision    recall  f1-score   support\n",
      "\n",
      "         bus       0.95      1.00      0.97        36\n",
      "         car       1.00      0.96      0.98        97\n",
      "         van       0.94      1.00      0.97        30\n",
      "\n",
      "    accuracy                           0.98       163\n",
      "   macro avg       0.96      0.99      0.97       163\n",
      "weighted avg       0.98      0.98      0.98       163\n",
      "\n"
     ]
    }
   ],
   "source": [
    "#Print Classification metrics for train data of above model and share relative improvement in performance in all the models along with insights.\n",
    "#predicting on best model\n",
    "y_train_predicted = best_svm_model.predict(X_train)\n",
    "y_test_predicted = best_svm_model.predict(X_test)\n",
    "\n",
    "# Evaluating the model\n",
    "train_accuracy = accuracy_score(y_train, y_train_predicted)\n",
    "test_accuracy = accuracy_score(y_test, y_test_predicted)\n",
    "print(f\"Training Accuracy of the tuned SVM model:{round(train_accuracy*100,2)}%\")\n",
    "print(f\"Testing Accuracy of the tuned SVM model:{round(test_accuracy*100,2)}%\")\n",
    "\n",
    "#Classification report\n",
    "print(\"Classification Metrics for Training Data:\")\n",
    "print(classification_report(y_train, y_train_predicted))\n",
    "\n",
    "\n",
    "print(\"Classification Metrics for Testing Data:\")\n",
    "print(classification_report(y_test, y_test_predicted))"
   ]
  },
  {
   "cell_type": "markdown",
   "id": "f0589ea0-5ce9-4949-9ce8-c96a8c782655",
   "metadata": {},
   "source": [
    "**Insights**  \n",
    "*1) We have created 3 models as Base SVM model(Base Model), SVM model with PCA(Model2) and Hypertuned SVM model with PCA(Best Model). Among these models Base model shows 96% accuracy in both training and testing data. Model2 based on PCA components shows reduced accuracy as 87% and 88% respectively and Hypertuned model shows best accuracy of 97% for both training and testing data.*    \n",
    "*2) Among all these models best recall and precision is shown by the hypertuned model with PCA.*    \n",
    "  "
   ]
  },
  {
   "cell_type": "code",
   "execution_count": null,
   "id": "df7590ad-3fe7-47e6-8759-3dd20d50fb2e",
   "metadata": {},
   "outputs": [],
   "source": []
  }
 ],
 "metadata": {
  "kernelspec": {
   "display_name": "Python 3 (ipykernel)",
   "language": "python",
   "name": "python3"
  },
  "language_info": {
   "codemirror_mode": {
    "name": "ipython",
    "version": 3
   },
   "file_extension": ".py",
   "mimetype": "text/x-python",
   "name": "python",
   "nbconvert_exporter": "python",
   "pygments_lexer": "ipython3",
   "version": "3.11.3"
  }
 },
 "nbformat": 4,
 "nbformat_minor": 5
}
